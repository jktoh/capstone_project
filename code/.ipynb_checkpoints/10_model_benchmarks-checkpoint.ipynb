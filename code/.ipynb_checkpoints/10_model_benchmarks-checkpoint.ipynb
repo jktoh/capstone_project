{
 "cells": [
  {
   "cell_type": "markdown",
   "metadata": {},
   "source": [
    "# Model Benchmarks\n",
    "---"
   ]
  },
  {
   "cell_type": "markdown",
   "metadata": {},
   "source": [
    "## Import Libraries And Modules"
   ]
  },
  {
   "cell_type": "code",
   "execution_count": 1,
   "metadata": {},
   "outputs": [
    {
     "name": "stderr",
     "output_type": "stream",
     "text": [
      "Using TensorFlow backend.\n"
     ]
    }
   ],
   "source": [
    "# Basic libraries\n",
    "import numpy as np\n",
    "import pandas as pd\n",
    "\n",
    "# Modelling libraries\n",
    "from sklearn.model_selection import train_test_split, RandomizedSearchCV\n",
    "from sklearn.pipeline import Pipeline\n",
    "from sklearn.preprocessing import StandardScaler\n",
    "from sklearn.linear_model import LogisticRegression\n",
    "from sklearn.neighbors import KNeighborsClassifier\n",
    "from sklearn.naive_bayes import BernoulliNB, GaussianNB\n",
    "from sklearn.tree import DecisionTreeClassifier\n",
    "from sklearn.ensemble import BaggingClassifier, RandomForestClassifier, ExtraTreesClassifier, AdaBoostClassifier, GradientBoostingClassifier, VotingClassifier\n",
    "from sklearn.svm import SVC\n",
    "from sklearn.metrics import classification_report, confusion_matrix\n",
    "from sklearn.decomposition import PCA\n",
    "\n",
    "# Popular boosting package, separate from `sklearn`. (Many Kaggle competitions have been won with `XGBoost`.)\n",
    "from xgboost import XGBClassifier\n",
    "\n",
    "# Modelling using neural networks\n",
    "from keras.models import Sequential\n",
    "from keras.layers import Dense, Dropout\n",
    "from keras.regularizers import l2\n",
    "from keras.optimizers import Adam\n",
    "from keras.wrappers.scikit_learn import KerasClassifier"
   ]
  },
  {
   "cell_type": "markdown",
   "metadata": {},
   "source": [
    "## Load Preprocessed Data"
   ]
  },
  {
   "cell_type": "markdown",
   "metadata": {},
   "source": [
    "Load `preprocessed.csv` from `data` folder into a pandas DataFrame."
   ]
  },
  {
   "cell_type": "code",
   "execution_count": 2,
   "metadata": {},
   "outputs": [
    {
     "name": "stdout",
     "output_type": "stream",
     "text": [
      "<class 'pandas.core.frame.DataFrame'>\n",
      "RangeIndex: 4969 entries, 0 to 4968\n",
      "Columns: 172 entries, security to sector_Wireless Telecommunication Services\n",
      "dtypes: float64(34), int64(137), object(1)\n",
      "memory usage: 6.5+ MB\n"
     ]
    }
   ],
   "source": [
    "df = pd.read_csv('../data/preprocessed.csv')\n",
    "df.info()"
   ]
  },
  {
   "cell_type": "markdown",
   "metadata": {},
   "source": [
    "---"
   ]
  },
  {
   "cell_type": "markdown",
   "metadata": {},
   "source": [
    "## Set Up `X` And `y`"
   ]
  },
  {
   "cell_type": "code",
   "execution_count": 3,
   "metadata": {
    "scrolled": true
   },
   "outputs": [],
   "source": [
    "target = 'cap'\n",
    "X = df[[f for f in df.columns if f not in target and f != 'security' and f != 'year']]\n",
    "y = df[target]"
   ]
  },
  {
   "cell_type": "markdown",
   "metadata": {},
   "source": [
    "---"
   ]
  },
  {
   "cell_type": "markdown",
   "metadata": {},
   "source": [
    "## Train/Test Split"
   ]
  },
  {
   "cell_type": "markdown",
   "metadata": {},
   "source": [
    "Our goal is to:\n",
    "- avoid overfitting in our model, and\n",
    "- to get an unbiased estimate of model performance on new, 'unseen' data.\n",
    "\n",
    "We always want to have a holdout set to test our model. Use the `train_test_split` function to split our X and y variables into a training set and a holdout set."
   ]
  },
  {
   "cell_type": "code",
   "execution_count": 4,
   "metadata": {},
   "outputs": [],
   "source": [
    "X_train, X_test, y_train, y_test = train_test_split(X, y, stratify=y)"
   ]
  },
  {
   "cell_type": "markdown",
   "metadata": {},
   "source": [
    "---"
   ]
  },
  {
   "cell_type": "markdown",
   "metadata": {},
   "source": [
    "## Modelling"
   ]
  },
  {
   "cell_type": "markdown",
   "metadata": {},
   "source": [
    "Our pipeline will consist of two stages:\n",
    "\n",
    "1. An instance of `StandardScaler`\n",
    "2. A classifier instance\n",
    "\n",
    "Since we want to tune over the classifiers, so we'll load our pipeline object into `RandomizedSearchCV`."
   ]
  },
  {
   "cell_type": "code",
   "execution_count": 5,
   "metadata": {},
   "outputs": [],
   "source": [
    "models = []\n",
    "best_scores = []"
   ]
  },
  {
   "cell_type": "code",
   "execution_count": 6,
   "metadata": {},
   "outputs": [],
   "source": [
    "def fit_model(\n",
    "    estimator,\n",
    "    param_distributions, \n",
    "    pca=False,\n",
    "    nn=False,\n",
    "    X_train=X_train,\n",
    "    X_test=X_test,\n",
    "    y_train=y_train,\n",
    "    y_test=y_test\n",
    "):\n",
    "    steps = [\n",
    "        # Use an instance of `StandardScaler` to scale `X_train` and `X_test` for any model that uses Gradient Descent\n",
    "        ('ss', StandardScaler()), \n",
    "        ('clf', estimator)\n",
    "    ]\n",
    "    if pca:\n",
    "        steps.insert(1, ('pca', PCA()))\n",
    "        if not nn:\n",
    "            param_distributions['pca__n_components'] = np.linspace(0.1, 0.9)\n",
    "    if nn:\n",
    "        # Since this is a multiclass classification problem, keras needs y to be a one-hot encoded matrix.\n",
    "        y_train = pd.get_dummies(y_train)\n",
    "        \n",
    "    # Fit the models on training data\n",
    "    model = RandomizedSearchCV(\n",
    "        estimator=Pipeline(steps),\n",
    "        param_distributions=param_distributions,\n",
    "        n_jobs=-1,\n",
    "        cv=5,\n",
    "        verbose=1\n",
    "    ).fit(X_train, y_train)\n",
    "    \n",
    "    # Evaluate models on test data\n",
    "    print(\"Best Combination Of Hyperparameters:\", model.best_params_) \n",
    "    print(\"Best Accuracy:\", model.best_score_)\n",
    "    print(\n",
    "        classification_report(\n",
    "            y_test,\n",
    "            model.predict(X_test), \n",
    "            target_names=['large-cap', 'mid-cap', 'small-cap']\n",
    "        )\n",
    "    )\n",
    "    return model"
   ]
  },
  {
   "cell_type": "code",
   "execution_count": 7,
   "metadata": {
    "scrolled": true
   },
   "outputs": [
    {
     "name": "stdout",
     "output_type": "stream",
     "text": [
      "Fitting 5 folds for each of 10 candidates, totalling 50 fits\n"
     ]
    },
    {
     "name": "stderr",
     "output_type": "stream",
     "text": [
      "[Parallel(n_jobs=-1)]: Using backend LokyBackend with 4 concurrent workers.\n",
      "[Parallel(n_jobs=-1)]: Done  42 tasks      | elapsed:   13.2s\n",
      "[Parallel(n_jobs=-1)]: Done  50 out of  50 | elapsed:  1.3min finished\n"
     ]
    },
    {
     "name": "stdout",
     "output_type": "stream",
     "text": [
      "Best Combination Of Hyperparameters: {'clf__solver': 'newton-cg', 'clf__penalty': 'l2', 'clf__class_weight': None, 'clf__C': 5.179474679231202}\n",
      "Best Accuracy: 0.8539989264626946\n",
      "              precision    recall  f1-score   support\n",
      "\n",
      "   large-cap       1.00      1.00      1.00       480\n",
      "     mid-cap       0.72      0.62      0.67       316\n",
      "   small-cap       0.76      0.83      0.79       447\n",
      "\n",
      "    accuracy                           0.84      1243\n",
      "   macro avg       0.83      0.82      0.82      1243\n",
      "weighted avg       0.84      0.84      0.84      1243\n",
      "\n"
     ]
    }
   ],
   "source": [
    "model = fit_model(\n",
    "    LogisticRegression(max_iter=10_000, multi_class='multinomial'), \n",
    "    {\n",
    "        'clf__penalty': ['l2', 'none'],\n",
    "        'clf__C': np.logspace(-5, 2), \n",
    "        'clf__class_weight': [None, 'balanced'],\n",
    "        'clf__solver': ['newton-cg', 'sag', 'lbfgs']\n",
    "    }\n",
    ")\n",
    "models.append(model)\n",
    "best_scores.append(model.best_score_)"
   ]
  },
  {
   "cell_type": "code",
   "execution_count": 8,
   "metadata": {
    "scrolled": true
   },
   "outputs": [
    {
     "name": "stdout",
     "output_type": "stream",
     "text": [
      "Fitting 5 folds for each of 10 candidates, totalling 50 fits\n"
     ]
    },
    {
     "name": "stderr",
     "output_type": "stream",
     "text": [
      "[Parallel(n_jobs=-1)]: Using backend LokyBackend with 4 concurrent workers.\n",
      "[Parallel(n_jobs=-1)]: Done  42 tasks      | elapsed:  7.6min\n",
      "[Parallel(n_jobs=-1)]: Done  50 out of  50 | elapsed:  8.3min finished\n"
     ]
    },
    {
     "name": "stdout",
     "output_type": "stream",
     "text": [
      "Best Combination Of Hyperparameters: {'clf__class_weight': None, 'clf__C': 1.389495494373136}\n",
      "Best Accuracy: 0.8580246913580247\n",
      "              precision    recall  f1-score   support\n",
      "\n",
      "   large-cap       1.00      1.00      1.00       480\n",
      "     mid-cap       0.72      0.60      0.65       316\n",
      "   small-cap       0.75      0.84      0.79       447\n",
      "\n",
      "    accuracy                           0.84      1243\n",
      "   macro avg       0.82      0.81      0.81      1243\n",
      "weighted avg       0.84      0.84      0.84      1243\n",
      "\n"
     ]
    }
   ],
   "source": [
    "model = fit_model(\n",
    "    LogisticRegression(penalty='l1', solver='saga', max_iter=10_000, multi_class='multinomial'), \n",
    "    {\n",
    "        'clf__C': np.logspace(-5, 2), \n",
    "        'clf__class_weight': [None, 'balanced']\n",
    "    }\n",
    ")\n",
    "models.append(model)\n",
    "best_scores.append(model.best_score_)"
   ]
  },
  {
   "cell_type": "code",
   "execution_count": 9,
   "metadata": {},
   "outputs": [
    {
     "name": "stdout",
     "output_type": "stream",
     "text": [
      "Fitting 5 folds for each of 10 candidates, totalling 50 fits\n"
     ]
    },
    {
     "name": "stderr",
     "output_type": "stream",
     "text": [
      "[Parallel(n_jobs=-1)]: Using backend LokyBackend with 4 concurrent workers.\n",
      "[Parallel(n_jobs=-1)]: Done  50 out of  50 | elapsed: 12.4min finished\n"
     ]
    },
    {
     "name": "stdout",
     "output_type": "stream",
     "text": [
      "Best Combination Of Hyperparameters: {'clf__l1_ratio': 0.7428571428571429, 'clf__class_weight': None, 'clf__C': 1.0}\n",
      "Best Accuracy: 0.8580246913580247\n",
      "              precision    recall  f1-score   support\n",
      "\n",
      "   large-cap       1.00      1.00      1.00       480\n",
      "     mid-cap       0.72      0.59      0.65       316\n",
      "   small-cap       0.74      0.84      0.79       447\n",
      "\n",
      "    accuracy                           0.84      1243\n",
      "   macro avg       0.82      0.81      0.81      1243\n",
      "weighted avg       0.84      0.84      0.83      1243\n",
      "\n"
     ]
    }
   ],
   "source": [
    "model = fit_model(\n",
    "    LogisticRegression(penalty='elasticnet', solver='saga', max_iter=10_000, multi_class='multinomial'), \n",
    "    {\n",
    "        'clf__C': np.logspace(-5, 2), \n",
    "        'clf__class_weight': [None, 'balanced'],\n",
    "        'clf__l1_ratio': np.linspace(0.1, 1)\n",
    "    }\n",
    ")\n",
    "models.append(model)\n",
    "best_scores.append(model.best_score_)"
   ]
  },
  {
   "cell_type": "code",
   "execution_count": 10,
   "metadata": {},
   "outputs": [
    {
     "name": "stdout",
     "output_type": "stream",
     "text": [
      "Fitting 5 folds for each of 10 candidates, totalling 50 fits\n"
     ]
    },
    {
     "name": "stderr",
     "output_type": "stream",
     "text": [
      "[Parallel(n_jobs=-1)]: Using backend LokyBackend with 4 concurrent workers.\n",
      "[Parallel(n_jobs=-1)]: Done  42 tasks      | elapsed:   11.6s\n",
      "[Parallel(n_jobs=-1)]: Done  50 out of  50 | elapsed:   13.4s finished\n"
     ]
    },
    {
     "name": "stdout",
     "output_type": "stream",
     "text": [
      "Best Combination Of Hyperparameters: {'clf__weights': 'distance', 'clf__n_neighbors': 1, 'clf__metric': 'manhattan'}\n",
      "Best Accuracy: 0.9358561460010736\n",
      "              precision    recall  f1-score   support\n",
      "\n",
      "   large-cap       1.00      0.99      1.00       480\n",
      "     mid-cap       0.94      0.88      0.91       316\n",
      "   small-cap       0.91      0.96      0.94       447\n",
      "\n",
      "    accuracy                           0.95      1243\n",
      "   macro avg       0.95      0.94      0.95      1243\n",
      "weighted avg       0.95      0.95      0.95      1243\n",
      "\n"
     ]
    }
   ],
   "source": [
    "model = fit_model(\n",
    "    KNeighborsClassifier(), \n",
    "    {\n",
    "        'clf__n_neighbors': np.arange(1, 22, 2), \n",
    "        'clf__weights': ['uniform', 'distance'],\n",
    "        'clf__metric': ['euclidean','manhattan']\n",
    "    }\n",
    ")\n",
    "models.append(model)\n",
    "best_scores.append(model.best_score_)"
   ]
  },
  {
   "cell_type": "code",
   "execution_count": 11,
   "metadata": {},
   "outputs": [
    {
     "name": "stdout",
     "output_type": "stream",
     "text": [
      "Fitting 5 folds for each of 10 candidates, totalling 50 fits\n"
     ]
    },
    {
     "name": "stderr",
     "output_type": "stream",
     "text": [
      "[Parallel(n_jobs=-1)]: Using backend LokyBackend with 4 concurrent workers.\n"
     ]
    },
    {
     "name": "stdout",
     "output_type": "stream",
     "text": [
      "Best Combination Of Hyperparameters: {'clf__alpha': 0.0003727593720314938}\n",
      "Best Accuracy: 0.7809983896940419\n",
      "              precision    recall  f1-score   support\n",
      "\n",
      "   large-cap       1.00      0.93      0.96       480\n",
      "     mid-cap       0.55      0.53      0.54       316\n",
      "   small-cap       0.69      0.75      0.72       447\n",
      "\n",
      "    accuracy                           0.76      1243\n",
      "   macro avg       0.74      0.74      0.74      1243\n",
      "weighted avg       0.77      0.76      0.77      1243\n",
      "\n"
     ]
    },
    {
     "name": "stderr",
     "output_type": "stream",
     "text": [
      "[Parallel(n_jobs=-1)]: Done  50 out of  50 | elapsed:    0.9s finished\n"
     ]
    }
   ],
   "source": [
    "model = fit_model(\n",
    "    BernoulliNB(), \n",
    "    {\n",
    "        'clf__alpha': np.logspace(-5, 2)\n",
    "    }\n",
    ")\n",
    "models.append(model)\n",
    "best_scores.append(model.best_score_)"
   ]
  },
  {
   "cell_type": "code",
   "execution_count": 12,
   "metadata": {},
   "outputs": [
    {
     "name": "stderr",
     "output_type": "stream",
     "text": [
      "[Parallel(n_jobs=-1)]: Using backend LokyBackend with 4 concurrent workers.\n"
     ]
    },
    {
     "name": "stdout",
     "output_type": "stream",
     "text": [
      "Fitting 5 folds for each of 10 candidates, totalling 50 fits\n",
      "Best Combination Of Hyperparameters: {'clf__var_smoothing': 3.727593720314938e-06}\n",
      "Best Accuracy: 0.8000536768652711\n",
      "              precision    recall  f1-score   support\n",
      "\n",
      "   large-cap       1.00      1.00      1.00       480\n",
      "     mid-cap       0.59      0.79      0.68       316\n",
      "   small-cap       0.81      0.62      0.70       447\n",
      "\n",
      "    accuracy                           0.81      1243\n",
      "   macro avg       0.80      0.80      0.79      1243\n",
      "weighted avg       0.83      0.81      0.81      1243\n",
      "\n"
     ]
    },
    {
     "name": "stderr",
     "output_type": "stream",
     "text": [
      "[Parallel(n_jobs=-1)]: Done  50 out of  50 | elapsed:    1.0s finished\n"
     ]
    }
   ],
   "source": [
    "model = fit_model(\n",
    "    GaussianNB(), \n",
    "    {\n",
    "        'clf__var_smoothing': np.logspace(-9, -4)\n",
    "    }\n",
    ")\n",
    "models.append(model)\n",
    "best_scores.append(model.best_score_)"
   ]
  },
  {
   "cell_type": "code",
   "execution_count": 13,
   "metadata": {},
   "outputs": [
    {
     "name": "stderr",
     "output_type": "stream",
     "text": [
      "[Parallel(n_jobs=-1)]: Using backend LokyBackend with 4 concurrent workers.\n"
     ]
    },
    {
     "name": "stdout",
     "output_type": "stream",
     "text": [
      "Fitting 5 folds for each of 10 candidates, totalling 50 fits\n",
      "Best Combination Of Hyperparameters: {'clf__min_samples_split': 15, 'clf__min_samples_leaf': 1, 'clf__max_depth': None, 'clf__class_weight': 'balanced'}\n",
      "Best Accuracy: 0.8169618894256575\n",
      "              precision    recall  f1-score   support\n",
      "\n",
      "   large-cap       0.97      0.95      0.96       480\n",
      "     mid-cap       0.69      0.77      0.73       316\n",
      "   small-cap       0.85      0.79      0.82       447\n",
      "\n",
      "    accuracy                           0.85      1243\n",
      "   macro avg       0.83      0.84      0.83      1243\n",
      "weighted avg       0.85      0.85      0.85      1243\n",
      "\n"
     ]
    },
    {
     "name": "stderr",
     "output_type": "stream",
     "text": [
      "[Parallel(n_jobs=-1)]: Done  50 out of  50 | elapsed:    1.8s finished\n"
     ]
    }
   ],
   "source": [
    "model = fit_model(\n",
    "    DecisionTreeClassifier(), \n",
    "    {\n",
    "        'clf__max_depth': list(np.arange(1, 5)) + [None],\n",
    "        'clf__min_samples_split': np.arange(2, 21),\n",
    "        'clf__min_samples_leaf': np.arange(1, 8),\n",
    "        'clf__class_weight': [None, 'balanced']\n",
    "    }\n",
    ")\n",
    "models.append(model)\n",
    "best_scores.append(model.best_score_)"
   ]
  },
  {
   "cell_type": "code",
   "execution_count": 14,
   "metadata": {},
   "outputs": [
    {
     "name": "stderr",
     "output_type": "stream",
     "text": [
      "[Parallel(n_jobs=-1)]: Using backend LokyBackend with 4 concurrent workers.\n"
     ]
    },
    {
     "name": "stdout",
     "output_type": "stream",
     "text": [
      "Fitting 5 folds for each of 10 candidates, totalling 50 fits\n"
     ]
    },
    {
     "name": "stderr",
     "output_type": "stream",
     "text": [
      "[Parallel(n_jobs=-1)]: Done  42 tasks      | elapsed:   27.6s\n",
      "[Parallel(n_jobs=-1)]: Done  50 out of  50 | elapsed:   31.5s finished\n"
     ]
    },
    {
     "name": "stdout",
     "output_type": "stream",
     "text": [
      "Best Combination Of Hyperparameters: {'clf__n_estimators': 4, 'clf__base_estimator__min_samples_split': 19, 'clf__base_estimator__min_samples_leaf': 4, 'clf__base_estimator__max_depth': None, 'clf__base_estimator__class_weight': None}\n",
      "Best Accuracy: 0.8311862587224906\n",
      "              precision    recall  f1-score   support\n",
      "\n",
      "   large-cap       0.97      0.96      0.96       480\n",
      "     mid-cap       0.75      0.74      0.74       316\n",
      "   small-cap       0.82      0.83      0.83       447\n",
      "\n",
      "    accuracy                           0.86      1243\n",
      "   macro avg       0.84      0.84      0.84      1243\n",
      "weighted avg       0.86      0.86      0.86      1243\n",
      "\n"
     ]
    }
   ],
   "source": [
    "model = fit_model(\n",
    "    BaggingClassifier(DecisionTreeClassifier()), \n",
    "    {\n",
    "        'clf__base_estimator__max_depth': list(np.arange(1, 5)) + [None],\n",
    "        'clf__base_estimator__min_samples_split': np.arange(2, 21),\n",
    "        'clf__base_estimator__min_samples_leaf': np.arange(1, 8),\n",
    "        'clf__base_estimator__class_weight': [None, 'balanced'],\n",
    "        'clf__n_estimators': np.arange(1, 150)\n",
    "    }\n",
    ")\n",
    "models.append(model)\n",
    "best_scores.append(model.best_score_)"
   ]
  },
  {
   "cell_type": "code",
   "execution_count": 15,
   "metadata": {},
   "outputs": [
    {
     "name": "stdout",
     "output_type": "stream",
     "text": [
      "Fitting 5 folds for each of 10 candidates, totalling 50 fits\n"
     ]
    },
    {
     "name": "stderr",
     "output_type": "stream",
     "text": [
      "[Parallel(n_jobs=-1)]: Using backend LokyBackend with 4 concurrent workers.\n",
      "[Parallel(n_jobs=-1)]: Done  42 tasks      | elapsed:    6.3s\n",
      "[Parallel(n_jobs=-1)]: Done  50 out of  50 | elapsed:    7.6s finished\n"
     ]
    },
    {
     "name": "stdout",
     "output_type": "stream",
     "text": [
      "Best Combination Of Hyperparameters: {'clf__n_estimators': 87, 'clf__min_samples_split': 19, 'clf__min_samples_leaf': 4, 'clf__max_depth': 4, 'clf__class_weight': 'balanced'}\n",
      "Best Accuracy: 0.7718733225979603\n",
      "              precision    recall  f1-score   support\n",
      "\n",
      "   large-cap       0.94      0.88      0.91       480\n",
      "     mid-cap       0.57      0.70      0.63       316\n",
      "   small-cap       0.80      0.74      0.77       447\n",
      "\n",
      "    accuracy                           0.78      1243\n",
      "   macro avg       0.77      0.77      0.77      1243\n",
      "weighted avg       0.80      0.78      0.79      1243\n",
      "\n"
     ]
    }
   ],
   "source": [
    "model = fit_model(\n",
    "    RandomForestClassifier(), \n",
    "    {\n",
    "        'clf__max_depth': np.arange(1, 5),\n",
    "        'clf__n_estimators': np.arange(1, 150),\n",
    "        'clf__min_samples_split': np.arange(2, 21),\n",
    "        'clf__min_samples_leaf': np.arange(1, 8),\n",
    "        'clf__class_weight': [None, 'balanced', 'balanced_subsample']\n",
    "    }\n",
    ")\n",
    "models.append(model)\n",
    "best_scores.append(model.best_score_)"
   ]
  },
  {
   "cell_type": "code",
   "execution_count": 16,
   "metadata": {},
   "outputs": [
    {
     "name": "stdout",
     "output_type": "stream",
     "text": [
      "Fitting 5 folds for each of 10 candidates, totalling 50 fits\n"
     ]
    },
    {
     "name": "stderr",
     "output_type": "stream",
     "text": [
      "[Parallel(n_jobs=-1)]: Using backend LokyBackend with 4 concurrent workers.\n",
      "[Parallel(n_jobs=-1)]: Done  42 tasks      | elapsed:    2.5s\n",
      "[Parallel(n_jobs=-1)]: Done  50 out of  50 | elapsed:    3.1s finished\n"
     ]
    },
    {
     "name": "stdout",
     "output_type": "stream",
     "text": [
      "Best Combination Of Hyperparameters: {'clf__n_estimators': 98, 'clf__min_samples_split': 15, 'clf__min_samples_leaf': 3, 'clf__max_depth': 3, 'clf__class_weight': 'balanced'}\n",
      "Best Accuracy: 0.7541599570585078\n",
      "              precision    recall  f1-score   support\n",
      "\n",
      "   large-cap       0.95      0.99      0.97       480\n",
      "     mid-cap       0.51      0.88      0.65       316\n",
      "   small-cap       0.86      0.37      0.51       447\n",
      "\n",
      "    accuracy                           0.74      1243\n",
      "   macro avg       0.77      0.75      0.71      1243\n",
      "weighted avg       0.80      0.74      0.72      1243\n",
      "\n"
     ]
    }
   ],
   "source": [
    "model = fit_model(\n",
    "    ExtraTreesClassifier(), \n",
    "    {\n",
    "        'clf__max_depth': np.arange(1, 5),\n",
    "        'clf__n_estimators': np.arange(1, 150),\n",
    "        'clf__min_samples_split': np.arange(2, 21),\n",
    "        'clf__min_samples_leaf': np.arange(1, 8),\n",
    "        'clf__class_weight': [None, 'balanced', 'balanced_subsample']\n",
    "    }\n",
    ")\n",
    "models.append(model)\n",
    "best_scores.append(model.best_score_)"
   ]
  },
  {
   "cell_type": "code",
   "execution_count": 17,
   "metadata": {},
   "outputs": [
    {
     "name": "stdout",
     "output_type": "stream",
     "text": [
      "Fitting 5 folds for each of 10 candidates, totalling 50 fits\n"
     ]
    },
    {
     "name": "stderr",
     "output_type": "stream",
     "text": [
      "[Parallel(n_jobs=-1)]: Using backend LokyBackend with 4 concurrent workers.\n",
      "[Parallel(n_jobs=-1)]: Done  42 tasks      | elapsed:   53.9s\n",
      "[Parallel(n_jobs=-1)]: Done  50 out of  50 | elapsed:   56.4s finished\n"
     ]
    },
    {
     "name": "stdout",
     "output_type": "stream",
     "text": [
      "Best Combination Of Hyperparameters: {'clf__n_estimators': 54, 'clf__learning_rate': 0.7795918367346939, 'clf__base_estimator__min_samples_split': 5, 'clf__base_estimator__min_samples_leaf': 6, 'clf__base_estimator__max_depth': None, 'clf__base_estimator__class_weight': 'balanced'}\n",
      "Best Accuracy: 0.9302200751476114\n",
      "              precision    recall  f1-score   support\n",
      "\n",
      "   large-cap       0.99      0.99      0.99       480\n",
      "     mid-cap       0.91      0.91      0.91       316\n",
      "   small-cap       0.94      0.94      0.94       447\n",
      "\n",
      "    accuracy                           0.95      1243\n",
      "   macro avg       0.95      0.95      0.95      1243\n",
      "weighted avg       0.95      0.95      0.95      1243\n",
      "\n"
     ]
    }
   ],
   "source": [
    "model = fit_model(\n",
    "    AdaBoostClassifier(base_estimator=DecisionTreeClassifier()), \n",
    "    {\n",
    "        'clf__base_estimator__max_depth': list(np.arange(1, 5)) + [None],\n",
    "        'clf__base_estimator__min_samples_split': np.arange(2, 21),\n",
    "        'clf__base_estimator__min_samples_leaf': np.arange(1, 8),\n",
    "        'clf__base_estimator__class_weight': [None, 'balanced'],\n",
    "        'clf__n_estimators': np.arange(1, 150), \n",
    "        'clf__learning_rate': np.linspace(0.1, 1)\n",
    "    }\n",
    ")\n",
    "models.append(model)\n",
    "best_scores.append(model.best_score_)"
   ]
  },
  {
   "cell_type": "code",
   "execution_count": 18,
   "metadata": {},
   "outputs": [
    {
     "name": "stdout",
     "output_type": "stream",
     "text": [
      "Fitting 5 folds for each of 10 candidates, totalling 50 fits\n"
     ]
    },
    {
     "name": "stderr",
     "output_type": "stream",
     "text": [
      "[Parallel(n_jobs=-1)]: Using backend LokyBackend with 4 concurrent workers.\n",
      "[Parallel(n_jobs=-1)]: Done  42 tasks      | elapsed:  1.1min\n",
      "[Parallel(n_jobs=-1)]: Done  50 out of  50 | elapsed:  1.4min finished\n"
     ]
    },
    {
     "name": "stdout",
     "output_type": "stream",
     "text": [
      "Best Combination Of Hyperparameters: {'clf__n_estimators': 82, 'clf__min_samples_split': 14, 'clf__min_samples_leaf': 3, 'clf__max_depth': 4, 'clf__learning_rate': 0.6326530612244898}\n",
      "Best Accuracy: 0.9452495974235104\n",
      "              precision    recall  f1-score   support\n",
      "\n",
      "   large-cap       1.00      1.00      1.00       480\n",
      "     mid-cap       0.92      0.87      0.90       316\n",
      "   small-cap       0.91      0.95      0.93       447\n",
      "\n",
      "    accuracy                           0.95      1243\n",
      "   macro avg       0.94      0.94      0.94      1243\n",
      "weighted avg       0.95      0.95      0.95      1243\n",
      "\n"
     ]
    }
   ],
   "source": [
    "model = fit_model(\n",
    "    GradientBoostingClassifier(), \n",
    "    {\n",
    "        'clf__max_depth': np.arange(1, 5),\n",
    "        'clf__n_estimators': np.arange(1, 150), \n",
    "        'clf__min_samples_split': np.arange(2, 21),\n",
    "        'clf__min_samples_leaf': np.arange(1, 8),\n",
    "        'clf__learning_rate': np.linspace(0.1, 1)\n",
    "    }\n",
    ")\n",
    "models.append(model)\n",
    "best_scores.append(model.best_score_)"
   ]
  },
  {
   "cell_type": "code",
   "execution_count": 19,
   "metadata": {},
   "outputs": [
    {
     "name": "stdout",
     "output_type": "stream",
     "text": [
      "Fitting 5 folds for each of 10 candidates, totalling 50 fits\n"
     ]
    },
    {
     "name": "stderr",
     "output_type": "stream",
     "text": [
      "[Parallel(n_jobs=-1)]: Using backend LokyBackend with 4 concurrent workers.\n",
      "[Parallel(n_jobs=-1)]: Done  42 tasks      | elapsed:  2.7min\n",
      "[Parallel(n_jobs=-1)]: Done  50 out of  50 | elapsed:  2.9min finished\n"
     ]
    },
    {
     "name": "stdout",
     "output_type": "stream",
     "text": [
      "Best Combination Of Hyperparameters: {'clf__tree__min_samples_split': 4, 'clf__tree__min_samples_leaf': 4, 'clf__tree__max_depth': 1, 'clf__tree__class_weight': None, 'clf__gb__n_estimators': 136, 'clf__gb__min_samples_split': 18, 'clf__gb__min_samples_leaf': 1, 'clf__gb__max_depth': 3, 'clf__gb__learning_rate': 0.8163265306122449, 'clf__ada__n_estimators': 71, 'clf__ada__learning_rate': 0.6693877551020408, 'clf__ada__base_estimator__min_samples_split': 13, 'clf__ada__base_estimator__min_samples_leaf': 2, 'clf__ada__base_estimator__max_depth': None, 'clf__ada__base_estimator__class_weight': None}\n",
      "Best Accuracy: 0.927536231884058\n",
      "              precision    recall  f1-score   support\n",
      "\n",
      "   large-cap       0.98      0.99      0.99       480\n",
      "     mid-cap       0.96      0.80      0.88       316\n",
      "   small-cap       0.87      0.97      0.92       447\n",
      "\n",
      "    accuracy                           0.94      1243\n",
      "   macro avg       0.94      0.92      0.93      1243\n",
      "weighted avg       0.94      0.94      0.93      1243\n",
      "\n"
     ]
    }
   ],
   "source": [
    "model = fit_model(\n",
    "    VotingClassifier([\n",
    "        ('tree', DecisionTreeClassifier()), \n",
    "        ('ada', AdaBoostClassifier(base_estimator=DecisionTreeClassifier())), \n",
    "        ('gb', GradientBoostingClassifier())\n",
    "    ]), \n",
    "    {\n",
    "        'clf__tree__max_depth': list(np.arange(1, 5)) + [None],\n",
    "        'clf__tree__min_samples_split': np.arange(2, 21),\n",
    "        'clf__tree__min_samples_leaf': np.arange(1, 8),\n",
    "        'clf__tree__class_weight': [None, 'balanced'],\n",
    "        'clf__ada__base_estimator__max_depth': list(np.arange(1, 5)) + [None],\n",
    "        'clf__ada__base_estimator__min_samples_split': np.arange(2, 21),\n",
    "        'clf__ada__base_estimator__min_samples_leaf': np.arange(1, 8),\n",
    "        'clf__ada__base_estimator__class_weight': [None, 'balanced'],\n",
    "        'clf__ada__n_estimators': np.arange(1, 150), \n",
    "        'clf__ada__learning_rate': np.linspace(0.1, 1),\n",
    "        'clf__gb__max_depth': np.arange(1, 5),\n",
    "        'clf__gb__n_estimators': np.arange(1, 150), \n",
    "        'clf__gb__min_samples_split': np.arange(2, 21),\n",
    "        'clf__gb__min_samples_leaf': np.arange(1, 8),\n",
    "        'clf__gb__learning_rate': np.linspace(0.1, 1)\n",
    "    }\n",
    ")\n",
    "models.append(model)\n",
    "best_scores.append(model.best_score_)"
   ]
  },
  {
   "cell_type": "code",
   "execution_count": 20,
   "metadata": {},
   "outputs": [
    {
     "name": "stdout",
     "output_type": "stream",
     "text": [
      "Fitting 5 folds for each of 10 candidates, totalling 50 fits\n"
     ]
    },
    {
     "name": "stderr",
     "output_type": "stream",
     "text": [
      "[Parallel(n_jobs=-1)]: Using backend LokyBackend with 4 concurrent workers.\n",
      "[Parallel(n_jobs=-1)]: Done  42 tasks      | elapsed: 12.7min\n",
      "[Parallel(n_jobs=-1)]: Done  50 out of  50 | elapsed: 15.0min finished\n"
     ]
    },
    {
     "name": "stdout",
     "output_type": "stream",
     "text": [
      "Best Combination Of Hyperparameters: {'clf__n_estimators': 755, 'clf__max_depth': 5, 'clf__learning_rate': 0.41224489795918373}\n",
      "Best Accuracy: 0.9476650563607085\n",
      "              precision    recall  f1-score   support\n",
      "\n",
      "   large-cap       1.00      1.00      1.00       480\n",
      "     mid-cap       0.95      0.91      0.93       316\n",
      "   small-cap       0.93      0.97      0.95       447\n",
      "\n",
      "    accuracy                           0.96      1243\n",
      "   macro avg       0.96      0.96      0.96      1243\n",
      "weighted avg       0.96      0.96      0.96      1243\n",
      "\n"
     ]
    }
   ],
   "source": [
    "model = fit_model(\n",
    "    XGBClassifier(objective='multi:softprob'), \n",
    "    {\n",
    "        'clf__max_depth': np.arange(1, 25),\n",
    "        'clf__n_estimators': np.arange(1, 1000), \n",
    "        'clf__learning_rate': np.linspace(0.1, 1)\n",
    "    }\n",
    ")\n",
    "models.append(model)\n",
    "best_scores.append(model.best_score_)"
   ]
  },
  {
   "cell_type": "code",
   "execution_count": 21,
   "metadata": {},
   "outputs": [
    {
     "name": "stdout",
     "output_type": "stream",
     "text": [
      "Fitting 5 folds for each of 10 candidates, totalling 50 fits\n"
     ]
    },
    {
     "name": "stderr",
     "output_type": "stream",
     "text": [
      "[Parallel(n_jobs=-1)]: Using backend LokyBackend with 4 concurrent workers.\n",
      "[Parallel(n_jobs=-1)]: Done  42 tasks      | elapsed:   39.1s\n",
      "[Parallel(n_jobs=-1)]: Done  50 out of  50 | elapsed:   47.6s finished\n"
     ]
    },
    {
     "name": "stdout",
     "output_type": "stream",
     "text": [
      "Best Combination Of Hyperparameters: {'clf__kernel': 'rbf', 'clf__gamma': 0.19306977288832497, 'clf__class_weight': 'balanced', 'clf__C': 19.306977288832496}\n",
      "Best Accuracy: 0.8655394524959742\n",
      "              precision    recall  f1-score   support\n",
      "\n",
      "   large-cap       0.96      1.00      0.98       480\n",
      "     mid-cap       0.77      0.73      0.75       316\n",
      "   small-cap       0.83      0.82      0.83       447\n",
      "\n",
      "    accuracy                           0.87      1243\n",
      "   macro avg       0.85      0.85      0.85      1243\n",
      "weighted avg       0.86      0.87      0.87      1243\n",
      "\n"
     ]
    }
   ],
   "source": [
    "model = fit_model(\n",
    "    SVC(decision_function_shape='ovo'), \n",
    "    {\n",
    "        'clf__C': np.logspace(-5, 2),\n",
    "        'clf__kernel': ['linear', 'poly', 'rbf', 'sigmoid'],\n",
    "        'clf__gamma': list(np.logspace(-5, 2)) + ['scale'],\n",
    "        'clf__class_weight': [None, 'balanced']\n",
    "    }\n",
    ")\n",
    "models.append(model)\n",
    "best_scores.append(model.best_score_)"
   ]
  },
  {
   "cell_type": "code",
   "execution_count": 22,
   "metadata": {
    "scrolled": true
   },
   "outputs": [
    {
     "name": "stdout",
     "output_type": "stream",
     "text": [
      "Fitting 5 folds for each of 10 candidates, totalling 50 fits\n"
     ]
    },
    {
     "name": "stderr",
     "output_type": "stream",
     "text": [
      "[Parallel(n_jobs=-1)]: Using backend LokyBackend with 4 concurrent workers.\n",
      "/Users/junkai/opt/anaconda3/lib/python3.7/site-packages/joblib/externals/loky/process_executor.py:706: UserWarning: A worker stopped while some jobs were given to the executor. This can be caused by a too short worker timeout or by a memory leak.\n",
      "  \"timeout or by a memory leak.\", UserWarning\n",
      "[Parallel(n_jobs=-1)]: Done  42 tasks      | elapsed:  2.9min\n"
     ]
    },
    {
     "name": "stdout",
     "output_type": "stream",
     "text": [
      "WARNING:tensorflow:Large dropout rate: 0.542857 (>0.5). In TensorFlow 2.x, dropout() uses dropout rate instead of keep_prob. Please ensure that this is intended.\n"
     ]
    },
    {
     "name": "stderr",
     "output_type": "stream",
     "text": [
      "[Parallel(n_jobs=-1)]: Done  50 out of  50 | elapsed:  3.4min finished\n"
     ]
    },
    {
     "name": "stdout",
     "output_type": "stream",
     "text": [
      "WARNING:tensorflow:Large dropout rate: 0.671429 (>0.5). In TensorFlow 2.x, dropout() uses dropout rate instead of keep_prob. Please ensure that this is intended.\n",
      "Best Combination Of Hyperparameters: {'clf__opt_learning_rate': 0.006866488450042998, 'clf__layer_two_neurons': 126, 'clf__layer_two_dropout': 0.6714285714285715, 'clf__layer_one_neurons': 54, 'clf__layer_one_dropout': 0.5428571428571428, 'clf__epochs': 32, 'clf__batch_size': 256}\n",
      "Best Accuracy: 0.8303811026720097\n",
      "              precision    recall  f1-score   support\n",
      "\n",
      "   large-cap       1.00      1.00      1.00       480\n",
      "     mid-cap       0.68      0.19      0.30       316\n",
      "   small-cap       0.62      0.94      0.75       447\n",
      "\n",
      "    accuracy                           0.77      1243\n",
      "   macro avg       0.77      0.71      0.68      1243\n",
      "weighted avg       0.78      0.77      0.73      1243\n",
      "\n"
     ]
    }
   ],
   "source": [
    "def ffnn_fn(\n",
    "    layer_one_neurons=18,\n",
    "    layer_two_neurons=18,\n",
    "    layer_one_dropout=0.5,\n",
    "    layer_two_dropout=0.5,\n",
    "    opt_learning_rate=0.01\n",
    "):\n",
    "    # Create a neural network using the Dense and Dropout layers from keras. \n",
    "    model = Sequential()\n",
    "    model.add(Dense(layer_one_neurons, activation='relu', kernel_regularizer=l2(), input_dim=X_train.shape[1]))\n",
    "    model.add(Dropout(layer_one_dropout))\n",
    "    model.add(Dense(layer_two_neurons, activation='relu', kernel_regularizer=l2()))\n",
    "    model.add(Dropout(layer_two_dropout))\n",
    "    \n",
    "    # Activation function for the final output layer needs to be softmax \n",
    "    # to accomidate the three different classes.\n",
    "    model.add(Dense(3, activation='softmax'))\n",
    "    \n",
    "    ad = Adam(learning_rate=opt_learning_rate)\n",
    "    \n",
    "    # Compile model\n",
    "    # Since this is a multiclass classification problem,loss function is categorical_crossentropy.\n",
    "    model.compile(optimizer=ad, loss='categorical_crossentropy', metrics=['accuracy'])\n",
    "    return model\n",
    "\n",
    "model = fit_model(\n",
    "    KerasClassifier(build_fn=ffnn_fn, verbose=0), \n",
    "    {\n",
    "        'clf__layer_one_neurons': np.arange(10, X_train.shape[1]),\n",
    "        'clf__layer_two_neurons': np.arange(10, X_train.shape[1]),\n",
    "        'clf__layer_one_dropout': np.linspace(0.5, 0.8),\n",
    "        'clf__layer_two_dropout': np.linspace(0.5, 0.8),\n",
    "        'clf__opt_learning_rate': np.logspace(-4, -1),\n",
    "        'clf__batch_size': [128, 256],\n",
    "        'clf__epochs': np.arange(5, 50)\n",
    "    },\n",
    "    nn=True\n",
    ")\n",
    "models.append(model)\n",
    "best_scores.append(model.best_score_)"
   ]
  },
  {
   "cell_type": "markdown",
   "metadata": {},
   "source": [
    "---"
   ]
  },
  {
   "cell_type": "markdown",
   "metadata": {},
   "source": [
    "## Modelling With `PCA`"
   ]
  },
  {
   "cell_type": "markdown",
   "metadata": {},
   "source": [
    "Use `PCA` (Principal component analysis) to simplify data, reduce noise, and find unmeasured latent variables.\n",
    "\n",
    "Our pipeline will consist of three stages:\n",
    "\n",
    "1. An instance of `StandardScaler`\n",
    "2. An instance of `PCA`\n",
    "3. A classifier instance\n",
    "\n",
    "Since we want to tune over the classifiers, so we'll load our pipeline object into `RandomizedSearchCV`."
   ]
  },
  {
   "cell_type": "code",
   "execution_count": 23,
   "metadata": {
    "scrolled": true
   },
   "outputs": [
    {
     "name": "stdout",
     "output_type": "stream",
     "text": [
      "Fitting 5 folds for each of 10 candidates, totalling 50 fits\n"
     ]
    },
    {
     "name": "stderr",
     "output_type": "stream",
     "text": [
      "[Parallel(n_jobs=-1)]: Using backend LokyBackend with 4 concurrent workers.\n",
      "[Parallel(n_jobs=-1)]: Done  42 tasks      | elapsed:  2.3min\n",
      "[Parallel(n_jobs=-1)]: Done  50 out of  50 | elapsed:  2.5min finished\n"
     ]
    },
    {
     "name": "stdout",
     "output_type": "stream",
     "text": [
      "Best Combination Of Hyperparameters: {'pca__n_components': 0.8510204081632654, 'clf__solver': 'lbfgs', 'clf__penalty': 'l2', 'clf__class_weight': None, 'clf__C': 26.82695795279722}\n",
      "Best Accuracy: 0.8502415458937198\n",
      "              precision    recall  f1-score   support\n",
      "\n",
      "   large-cap       1.00      0.99      0.99       480\n",
      "     mid-cap       0.73      0.61      0.66       316\n",
      "   small-cap       0.76      0.85      0.80       447\n",
      "\n",
      "    accuracy                           0.84      1243\n",
      "   macro avg       0.83      0.82      0.82      1243\n",
      "weighted avg       0.84      0.84      0.84      1243\n",
      "\n"
     ]
    }
   ],
   "source": [
    "model = fit_model(\n",
    "    LogisticRegression(max_iter=10_000, multi_class='multinomial'), \n",
    "    {\n",
    "        'clf__penalty': ['l2', 'none'],\n",
    "        'clf__C': np.logspace(-5, 2), \n",
    "        'clf__class_weight': [None, 'balanced'],\n",
    "        'clf__solver': ['newton-cg', 'sag', 'lbfgs']\n",
    "    },\n",
    "    pca=True\n",
    ")\n",
    "models.append(model)\n",
    "best_scores.append(model.best_score_)"
   ]
  },
  {
   "cell_type": "code",
   "execution_count": 24,
   "metadata": {},
   "outputs": [
    {
     "name": "stdout",
     "output_type": "stream",
     "text": [
      "Fitting 5 folds for each of 10 candidates, totalling 50 fits\n"
     ]
    },
    {
     "name": "stderr",
     "output_type": "stream",
     "text": [
      "[Parallel(n_jobs=-1)]: Using backend LokyBackend with 4 concurrent workers.\n",
      "[Parallel(n_jobs=-1)]: Done  42 tasks      | elapsed:  1.5min\n",
      "[Parallel(n_jobs=-1)]: Done  50 out of  50 | elapsed:  2.6min finished\n"
     ]
    },
    {
     "name": "stdout",
     "output_type": "stream",
     "text": [
      "Best Combination Of Hyperparameters: {'pca__n_components': 0.6387755102040816, 'clf__class_weight': None, 'clf__C': 3.727593720314938}\n",
      "Best Accuracy: 0.8438003220611916\n",
      "              precision    recall  f1-score   support\n",
      "\n",
      "   large-cap       0.99      0.99      0.99       480\n",
      "     mid-cap       0.72      0.60      0.66       316\n",
      "   small-cap       0.75      0.84      0.80       447\n",
      "\n",
      "    accuracy                           0.84      1243\n",
      "   macro avg       0.82      0.81      0.82      1243\n",
      "weighted avg       0.84      0.84      0.84      1243\n",
      "\n"
     ]
    }
   ],
   "source": [
    "model = fit_model(\n",
    "    LogisticRegression(penalty='l1', solver='saga', max_iter=10_000, multi_class='multinomial'), \n",
    "    {\n",
    "        'clf__C': np.logspace(-5, 2), \n",
    "        'clf__class_weight': [None, 'balanced']\n",
    "    },\n",
    "    pca=True\n",
    ")\n",
    "models.append(model)\n",
    "best_scores.append(model.best_score_)"
   ]
  },
  {
   "cell_type": "code",
   "execution_count": 25,
   "metadata": {},
   "outputs": [
    {
     "name": "stdout",
     "output_type": "stream",
     "text": [
      "Fitting 5 folds for each of 10 candidates, totalling 50 fits\n"
     ]
    },
    {
     "name": "stderr",
     "output_type": "stream",
     "text": [
      "[Parallel(n_jobs=-1)]: Using backend LokyBackend with 4 concurrent workers.\n",
      "[Parallel(n_jobs=-1)]: Done  42 tasks      | elapsed:  1.8min\n",
      "[Parallel(n_jobs=-1)]: Done  50 out of  50 | elapsed:  2.1min finished\n"
     ]
    },
    {
     "name": "stdout",
     "output_type": "stream",
     "text": [
      "Best Combination Of Hyperparameters: {'pca__n_components': 0.7693877551020408, 'clf__l1_ratio': 0.46734693877551026, 'clf__class_weight': 'balanced', 'clf__C': 2.682695795279722}\n",
      "Best Accuracy: 0.8494363929146538\n",
      "              precision    recall  f1-score   support\n",
      "\n",
      "   large-cap       1.00      0.99      0.99       480\n",
      "     mid-cap       0.66      0.73      0.69       316\n",
      "   small-cap       0.80      0.74      0.77       447\n",
      "\n",
      "    accuracy                           0.84      1243\n",
      "   macro avg       0.82      0.82      0.82      1243\n",
      "weighted avg       0.84      0.84      0.84      1243\n",
      "\n"
     ]
    }
   ],
   "source": [
    "model = fit_model(\n",
    "    LogisticRegression(penalty='elasticnet', solver='saga', max_iter=10_000, multi_class='multinomial'), \n",
    "    {\n",
    "        'clf__C': np.logspace(-5, 2), \n",
    "        'clf__class_weight': [None, 'balanced'],\n",
    "        'clf__l1_ratio': np.linspace(0.1, 1)\n",
    "    },\n",
    "    pca=True\n",
    ")\n",
    "models.append(model)\n",
    "best_scores.append(model.best_score_)"
   ]
  },
  {
   "cell_type": "code",
   "execution_count": 26,
   "metadata": {},
   "outputs": [
    {
     "name": "stdout",
     "output_type": "stream",
     "text": [
      "Fitting 5 folds for each of 10 candidates, totalling 50 fits\n"
     ]
    },
    {
     "name": "stderr",
     "output_type": "stream",
     "text": [
      "[Parallel(n_jobs=-1)]: Using backend LokyBackend with 4 concurrent workers.\n",
      "[Parallel(n_jobs=-1)]: Done  42 tasks      | elapsed:    4.4s\n",
      "[Parallel(n_jobs=-1)]: Done  50 out of  50 | elapsed:    5.1s finished\n"
     ]
    },
    {
     "name": "stdout",
     "output_type": "stream",
     "text": [
      "Best Combination Of Hyperparameters: {'pca__n_components': 0.5571428571428572, 'clf__weights': 'distance', 'clf__n_neighbors': 5, 'clf__metric': 'euclidean'}\n",
      "Best Accuracy: 0.8939881910896403\n",
      "              precision    recall  f1-score   support\n",
      "\n",
      "   large-cap       1.00      0.99      0.99       480\n",
      "     mid-cap       0.82      0.72      0.77       316\n",
      "   small-cap       0.82      0.90      0.86       447\n",
      "\n",
      "    accuracy                           0.89      1243\n",
      "   macro avg       0.88      0.87      0.87      1243\n",
      "weighted avg       0.89      0.89      0.89      1243\n",
      "\n"
     ]
    }
   ],
   "source": [
    "model = fit_model(\n",
    "    KNeighborsClassifier(), \n",
    "    {\n",
    "        'clf__n_neighbors': np.arange(1, 22, 2), \n",
    "        'clf__weights': ['uniform', 'distance'],\n",
    "        'clf__metric': ['euclidean','manhattan']\n",
    "    },\n",
    "    pca=True\n",
    ")\n",
    "models.append(model)\n",
    "best_scores.append(model.best_score_)"
   ]
  },
  {
   "cell_type": "code",
   "execution_count": 27,
   "metadata": {},
   "outputs": [
    {
     "name": "stdout",
     "output_type": "stream",
     "text": [
      "Fitting 5 folds for each of 10 candidates, totalling 50 fits\n"
     ]
    },
    {
     "name": "stderr",
     "output_type": "stream",
     "text": [
      "[Parallel(n_jobs=-1)]: Using backend LokyBackend with 4 concurrent workers.\n"
     ]
    },
    {
     "name": "stdout",
     "output_type": "stream",
     "text": [
      "Best Combination Of Hyperparameters: {'pca__n_components': 0.5408163265306123, 'clf__alpha': 1.9306977288832496e-05}\n",
      "Best Accuracy: 0.7249060654857756\n",
      "              precision    recall  f1-score   support\n",
      "\n",
      "   large-cap       0.84      1.00      0.91       480\n",
      "     mid-cap       0.52      0.72      0.60       316\n",
      "   small-cap       0.76      0.40      0.53       447\n",
      "\n",
      "    accuracy                           0.71      1243\n",
      "   macro avg       0.71      0.71      0.68      1243\n",
      "weighted avg       0.73      0.71      0.70      1243\n",
      "\n"
     ]
    },
    {
     "name": "stderr",
     "output_type": "stream",
     "text": [
      "[Parallel(n_jobs=-1)]: Done  50 out of  50 | elapsed:    2.7s finished\n"
     ]
    }
   ],
   "source": [
    "model = fit_model(\n",
    "    BernoulliNB(), \n",
    "    {\n",
    "        'clf__alpha': np.logspace(-5, 2)\n",
    "    },\n",
    "    pca=True\n",
    ")\n",
    "models.append(model)\n",
    "best_scores.append(model.best_score_)"
   ]
  },
  {
   "cell_type": "code",
   "execution_count": 28,
   "metadata": {},
   "outputs": [
    {
     "name": "stderr",
     "output_type": "stream",
     "text": [
      "[Parallel(n_jobs=-1)]: Using backend LokyBackend with 4 concurrent workers.\n"
     ]
    },
    {
     "name": "stdout",
     "output_type": "stream",
     "text": [
      "Fitting 5 folds for each of 10 candidates, totalling 50 fits\n",
      "Best Combination Of Hyperparameters: {'pca__n_components': 0.4102040816326531, 'clf__var_smoothing': 2.3299518105153717e-06}\n",
      "Best Accuracy: 0.7198067632850241\n",
      "              precision    recall  f1-score   support\n",
      "\n",
      "   large-cap       0.94      0.95      0.94       480\n",
      "     mid-cap       0.52      0.84      0.64       316\n",
      "   small-cap       0.82      0.45      0.58       447\n",
      "\n",
      "    accuracy                           0.74      1243\n",
      "   macro avg       0.76      0.75      0.72      1243\n",
      "weighted avg       0.79      0.74      0.74      1243\n",
      "\n"
     ]
    },
    {
     "name": "stderr",
     "output_type": "stream",
     "text": [
      "[Parallel(n_jobs=-1)]: Done  50 out of  50 | elapsed:    3.4s finished\n"
     ]
    }
   ],
   "source": [
    "model = fit_model(\n",
    "    GaussianNB(), \n",
    "    {\n",
    "        'clf__var_smoothing': np.logspace(-9, -4)\n",
    "    },\n",
    "    pca=True\n",
    ")\n",
    "models.append(model)\n",
    "best_scores.append(model.best_score_)"
   ]
  },
  {
   "cell_type": "code",
   "execution_count": 29,
   "metadata": {},
   "outputs": [
    {
     "name": "stderr",
     "output_type": "stream",
     "text": [
      "[Parallel(n_jobs=-1)]: Using backend LokyBackend with 4 concurrent workers.\n"
     ]
    },
    {
     "name": "stdout",
     "output_type": "stream",
     "text": [
      "Fitting 5 folds for each of 10 candidates, totalling 50 fits\n"
     ]
    },
    {
     "name": "stderr",
     "output_type": "stream",
     "text": [
      "[Parallel(n_jobs=-1)]: Done  42 tasks      | elapsed:    4.5s\n",
      "[Parallel(n_jobs=-1)]: Done  50 out of  50 | elapsed:    5.1s finished\n"
     ]
    },
    {
     "name": "stdout",
     "output_type": "stream",
     "text": [
      "Best Combination Of Hyperparameters: {'pca__n_components': 0.573469387755102, 'clf__min_samples_split': 10, 'clf__min_samples_leaf': 2, 'clf__max_depth': None, 'clf__class_weight': 'balanced'}\n",
      "Best Accuracy: 0.8494363929146538\n",
      "              precision    recall  f1-score   support\n",
      "\n",
      "   large-cap       0.99      0.97      0.98       480\n",
      "     mid-cap       0.70      0.72      0.71       316\n",
      "   small-cap       0.79      0.80      0.80       447\n",
      "\n",
      "    accuracy                           0.85      1243\n",
      "   macro avg       0.83      0.83      0.83      1243\n",
      "weighted avg       0.85      0.85      0.85      1243\n",
      "\n"
     ]
    }
   ],
   "source": [
    "model = fit_model(\n",
    "    DecisionTreeClassifier(), \n",
    "    {\n",
    "        'clf__max_depth': list(np.arange(1, 5)) + [None],\n",
    "        'clf__min_samples_split': np.arange(2, 21),\n",
    "        'clf__min_samples_leaf': np.arange(1, 8),\n",
    "        'clf__class_weight': [None, 'balanced']\n",
    "    },\n",
    "    pca=True\n",
    ")\n",
    "models.append(model)\n",
    "best_scores.append(model.best_score_)"
   ]
  },
  {
   "cell_type": "code",
   "execution_count": 30,
   "metadata": {},
   "outputs": [
    {
     "name": "stdout",
     "output_type": "stream",
     "text": [
      "Fitting 5 folds for each of 10 candidates, totalling 50 fits\n"
     ]
    },
    {
     "name": "stderr",
     "output_type": "stream",
     "text": [
      "[Parallel(n_jobs=-1)]: Using backend LokyBackend with 4 concurrent workers.\n",
      "[Parallel(n_jobs=-1)]: Done  42 tasks      | elapsed:  1.4min\n",
      "[Parallel(n_jobs=-1)]: Done  50 out of  50 | elapsed:  1.7min finished\n"
     ]
    },
    {
     "name": "stdout",
     "output_type": "stream",
     "text": [
      "Best Combination Of Hyperparameters: {'pca__n_components': 0.6061224489795919, 'clf__n_estimators': 101, 'clf__base_estimator__min_samples_split': 6, 'clf__base_estimator__min_samples_leaf': 2, 'clf__base_estimator__max_depth': None, 'clf__base_estimator__class_weight': None}\n",
      "Best Accuracy: 0.8969404186795491\n",
      "              precision    recall  f1-score   support\n",
      "\n",
      "   large-cap       1.00      1.00      1.00       480\n",
      "     mid-cap       0.83      0.73      0.78       316\n",
      "   small-cap       0.83      0.89      0.86       447\n",
      "\n",
      "    accuracy                           0.89      1243\n",
      "   macro avg       0.88      0.87      0.88      1243\n",
      "weighted avg       0.89      0.89      0.89      1243\n",
      "\n"
     ]
    }
   ],
   "source": [
    "model = fit_model(\n",
    "    BaggingClassifier(DecisionTreeClassifier()), \n",
    "    {\n",
    "        'clf__base_estimator__max_depth': list(np.arange(1, 5)) + [None],\n",
    "        'clf__base_estimator__min_samples_split': np.arange(2, 21),\n",
    "        'clf__base_estimator__min_samples_leaf': np.arange(1, 8),\n",
    "        'clf__base_estimator__class_weight': [None, 'balanced'],\n",
    "        'clf__n_estimators': np.arange(1, 150)\n",
    "    },\n",
    "    pca=True\n",
    ")\n",
    "models.append(model)\n",
    "best_scores.append(model.best_score_)"
   ]
  },
  {
   "cell_type": "code",
   "execution_count": 31,
   "metadata": {},
   "outputs": [
    {
     "name": "stdout",
     "output_type": "stream",
     "text": [
      "Fitting 5 folds for each of 10 candidates, totalling 50 fits\n"
     ]
    },
    {
     "name": "stderr",
     "output_type": "stream",
     "text": [
      "[Parallel(n_jobs=-1)]: Using backend LokyBackend with 4 concurrent workers.\n",
      "[Parallel(n_jobs=-1)]: Done  42 tasks      | elapsed:   16.1s\n",
      "[Parallel(n_jobs=-1)]: Done  50 out of  50 | elapsed:   21.2s finished\n"
     ]
    },
    {
     "name": "stdout",
     "output_type": "stream",
     "text": [
      "Best Combination Of Hyperparameters: {'pca__n_components': 0.7040816326530612, 'clf__n_estimators': 141, 'clf__min_samples_split': 4, 'clf__min_samples_leaf': 5, 'clf__max_depth': 4, 'clf__class_weight': None}\n",
      "Best Accuracy: 0.8405797101449275\n",
      "              precision    recall  f1-score   support\n",
      "\n",
      "   large-cap       1.00      1.00      1.00       480\n",
      "     mid-cap       0.85      0.20      0.33       316\n",
      "   small-cap       0.63      0.98      0.77       447\n",
      "\n",
      "    accuracy                           0.79      1243\n",
      "   macro avg       0.83      0.73      0.70      1243\n",
      "weighted avg       0.83      0.79      0.75      1243\n",
      "\n"
     ]
    }
   ],
   "source": [
    "model = fit_model(\n",
    "    RandomForestClassifier(), \n",
    "    {\n",
    "        'clf__max_depth': np.arange(1, 5),\n",
    "        'clf__n_estimators': np.arange(1, 150),\n",
    "        'clf__min_samples_split': np.arange(2, 21),\n",
    "        'clf__min_samples_leaf': np.arange(1, 8),\n",
    "        'clf__class_weight': [None, 'balanced', 'balanced_subsample']\n",
    "    },\n",
    "    pca=True\n",
    ")\n",
    "models.append(model)\n",
    "best_scores.append(model.best_score_)"
   ]
  },
  {
   "cell_type": "code",
   "execution_count": 32,
   "metadata": {},
   "outputs": [
    {
     "name": "stdout",
     "output_type": "stream",
     "text": [
      "Fitting 5 folds for each of 10 candidates, totalling 50 fits\n"
     ]
    },
    {
     "name": "stderr",
     "output_type": "stream",
     "text": [
      "[Parallel(n_jobs=-1)]: Using backend LokyBackend with 4 concurrent workers.\n",
      "[Parallel(n_jobs=-1)]: Done  42 tasks      | elapsed:    5.4s\n",
      "[Parallel(n_jobs=-1)]: Done  50 out of  50 | elapsed:    6.5s finished\n"
     ]
    },
    {
     "name": "stdout",
     "output_type": "stream",
     "text": [
      "Best Combination Of Hyperparameters: {'pca__n_components': 0.4755102040816327, 'clf__n_estimators': 132, 'clf__min_samples_split': 2, 'clf__min_samples_leaf': 7, 'clf__max_depth': 4, 'clf__class_weight': 'balanced_subsample'}\n",
      "Best Accuracy: 0.7525496511003757\n",
      "              precision    recall  f1-score   support\n",
      "\n",
      "   large-cap       0.99      0.99      0.99       480\n",
      "     mid-cap       0.52      0.88      0.65       316\n",
      "   small-cap       0.83      0.42      0.56       447\n",
      "\n",
      "    accuracy                           0.76      1243\n",
      "   macro avg       0.78      0.76      0.73      1243\n",
      "weighted avg       0.81      0.76      0.75      1243\n",
      "\n"
     ]
    }
   ],
   "source": [
    "model = fit_model(\n",
    "    ExtraTreesClassifier(), \n",
    "    {\n",
    "        'clf__max_depth': np.arange(1, 5),\n",
    "        'clf__n_estimators': np.arange(1, 150),\n",
    "        'clf__min_samples_split': np.arange(2, 21),\n",
    "        'clf__min_samples_leaf': np.arange(1, 8),\n",
    "        'clf__class_weight': [None, 'balanced', 'balanced_subsample']\n",
    "    },\n",
    "    pca=True\n",
    ")\n",
    "models.append(model)\n",
    "best_scores.append(model.best_score_)"
   ]
  },
  {
   "cell_type": "code",
   "execution_count": 33,
   "metadata": {},
   "outputs": [
    {
     "name": "stdout",
     "output_type": "stream",
     "text": [
      "Fitting 5 folds for each of 10 candidates, totalling 50 fits\n"
     ]
    },
    {
     "name": "stderr",
     "output_type": "stream",
     "text": [
      "[Parallel(n_jobs=-1)]: Using backend LokyBackend with 4 concurrent workers.\n",
      "[Parallel(n_jobs=-1)]: Done  42 tasks      | elapsed:  1.3min\n",
      "[Parallel(n_jobs=-1)]: Done  50 out of  50 | elapsed:  1.3min finished\n"
     ]
    },
    {
     "name": "stdout",
     "output_type": "stream",
     "text": [
      "Best Combination Of Hyperparameters: {'pca__n_components': 0.3938775510204082, 'clf__n_estimators': 72, 'clf__learning_rate': 0.13673469387755102, 'clf__base_estimator__min_samples_split': 10, 'clf__base_estimator__min_samples_leaf': 7, 'clf__base_estimator__max_depth': None, 'clf__base_estimator__class_weight': 'balanced'}\n",
      "Best Accuracy: 0.9095544820182502\n",
      "              precision    recall  f1-score   support\n",
      "\n",
      "   large-cap       1.00      1.00      1.00       480\n",
      "     mid-cap       0.85      0.77      0.81       316\n",
      "   small-cap       0.84      0.90      0.87       447\n",
      "\n",
      "    accuracy                           0.90      1243\n",
      "   macro avg       0.90      0.89      0.89      1243\n",
      "weighted avg       0.90      0.90      0.90      1243\n",
      "\n"
     ]
    }
   ],
   "source": [
    "model = fit_model(\n",
    "    AdaBoostClassifier(base_estimator=DecisionTreeClassifier()), \n",
    "    {\n",
    "        'clf__base_estimator__max_depth': list(np.arange(1, 5)) + [None],\n",
    "        'clf__base_estimator__min_samples_split': np.arange(2, 21),\n",
    "        'clf__base_estimator__min_samples_leaf': np.arange(1, 8),\n",
    "        'clf__base_estimator__class_weight': [None, 'balanced'],\n",
    "        'clf__n_estimators': np.arange(1, 150), \n",
    "        'clf__learning_rate': np.linspace(0.1, 1)\n",
    "    },\n",
    "    pca=True\n",
    ")\n",
    "models.append(model)\n",
    "best_scores.append(model.best_score_)"
   ]
  },
  {
   "cell_type": "code",
   "execution_count": 34,
   "metadata": {},
   "outputs": [
    {
     "name": "stdout",
     "output_type": "stream",
     "text": [
      "Fitting 5 folds for each of 10 candidates, totalling 50 fits\n"
     ]
    },
    {
     "name": "stderr",
     "output_type": "stream",
     "text": [
      "[Parallel(n_jobs=-1)]: Using backend LokyBackend with 4 concurrent workers.\n",
      "[Parallel(n_jobs=-1)]: Done  42 tasks      | elapsed:  1.0min\n",
      "[Parallel(n_jobs=-1)]: Done  50 out of  50 | elapsed:  1.3min finished\n"
     ]
    },
    {
     "name": "stdout",
     "output_type": "stream",
     "text": [
      "Best Combination Of Hyperparameters: {'pca__n_components': 0.6714285714285715, 'clf__n_estimators': 141, 'clf__min_samples_split': 13, 'clf__min_samples_leaf': 3, 'clf__max_depth': 4, 'clf__learning_rate': 0.15510204081632656}\n",
      "Best Accuracy: 0.8923778851315083\n",
      "              precision    recall  f1-score   support\n",
      "\n",
      "   large-cap       1.00      1.00      1.00       480\n",
      "     mid-cap       0.78      0.73      0.75       316\n",
      "   small-cap       0.82      0.85      0.83       447\n",
      "\n",
      "    accuracy                           0.88      1243\n",
      "   macro avg       0.86      0.86      0.86      1243\n",
      "weighted avg       0.88      0.88      0.88      1243\n",
      "\n"
     ]
    }
   ],
   "source": [
    "model = fit_model(\n",
    "    GradientBoostingClassifier(), \n",
    "    {\n",
    "        'clf__max_depth': np.arange(1, 5),\n",
    "        'clf__n_estimators': np.arange(1, 150), \n",
    "        'clf__min_samples_split': np.arange(2, 21),\n",
    "        'clf__min_samples_leaf': np.arange(1, 8),\n",
    "        'clf__learning_rate': np.linspace(0.1, 1)\n",
    "    },\n",
    "    pca=True\n",
    ")\n",
    "models.append(model)\n",
    "best_scores.append(model.best_score_)"
   ]
  },
  {
   "cell_type": "code",
   "execution_count": 35,
   "metadata": {},
   "outputs": [
    {
     "name": "stdout",
     "output_type": "stream",
     "text": [
      "Fitting 5 folds for each of 10 candidates, totalling 50 fits\n"
     ]
    },
    {
     "name": "stderr",
     "output_type": "stream",
     "text": [
      "[Parallel(n_jobs=-1)]: Using backend LokyBackend with 4 concurrent workers.\n",
      "[Parallel(n_jobs=-1)]: Done  42 tasks      | elapsed:  4.0min\n",
      "[Parallel(n_jobs=-1)]: Done  50 out of  50 | elapsed:  4.4min finished\n"
     ]
    },
    {
     "name": "stdout",
     "output_type": "stream",
     "text": [
      "Best Combination Of Hyperparameters: {'pca__n_components': 0.37755102040816324, 'clf__tree__min_samples_split': 14, 'clf__tree__min_samples_leaf': 1, 'clf__tree__max_depth': 1, 'clf__tree__class_weight': 'balanced', 'clf__gb__n_estimators': 117, 'clf__gb__min_samples_split': 10, 'clf__gb__min_samples_leaf': 4, 'clf__gb__max_depth': 4, 'clf__gb__learning_rate': 0.48571428571428577, 'clf__ada__n_estimators': 108, 'clf__ada__learning_rate': 0.6510204081632653, 'clf__ada__base_estimator__min_samples_split': 8, 'clf__ada__base_estimator__min_samples_leaf': 2, 'clf__ada__base_estimator__max_depth': None, 'clf__ada__base_estimator__class_weight': 'balanced'}\n",
      "Best Accuracy: 0.8988191089640365\n",
      "              precision    recall  f1-score   support\n",
      "\n",
      "   large-cap       1.00      1.00      1.00       480\n",
      "     mid-cap       0.87      0.64      0.74       316\n",
      "   small-cap       0.78      0.93      0.85       447\n",
      "\n",
      "    accuracy                           0.88      1243\n",
      "   macro avg       0.88      0.86      0.86      1243\n",
      "weighted avg       0.89      0.88      0.88      1243\n",
      "\n"
     ]
    }
   ],
   "source": [
    "model = fit_model(\n",
    "    VotingClassifier([\n",
    "        ('tree', DecisionTreeClassifier()), \n",
    "        ('ada', AdaBoostClassifier(base_estimator=DecisionTreeClassifier())), \n",
    "        ('gb', GradientBoostingClassifier())\n",
    "    ]), \n",
    "    {\n",
    "        'clf__tree__max_depth': list(np.arange(1, 5)) + [None],\n",
    "        'clf__tree__min_samples_split': np.arange(2, 21),\n",
    "        'clf__tree__min_samples_leaf': np.arange(1, 8),\n",
    "        'clf__tree__class_weight': [None, 'balanced'],\n",
    "        'clf__ada__base_estimator__max_depth': list(np.arange(1, 5)) + [None],\n",
    "        'clf__ada__base_estimator__min_samples_split': np.arange(2, 21),\n",
    "        'clf__ada__base_estimator__min_samples_leaf': np.arange(1, 8),\n",
    "        'clf__ada__base_estimator__class_weight': [None, 'balanced'],\n",
    "        'clf__ada__n_estimators': np.arange(1, 150), \n",
    "        'clf__ada__learning_rate': np.linspace(0.1, 1),\n",
    "        'clf__gb__max_depth': np.arange(1, 5),\n",
    "        'clf__gb__n_estimators': np.arange(1, 150), \n",
    "        'clf__gb__min_samples_split': np.arange(2, 21),\n",
    "        'clf__gb__min_samples_leaf': np.arange(1, 8),\n",
    "        'clf__gb__learning_rate': np.linspace(0.1, 1)\n",
    "    },\n",
    "    pca=True\n",
    ")\n",
    "models.append(model)\n",
    "best_scores.append(model.best_score_)"
   ]
  },
  {
   "cell_type": "code",
   "execution_count": 36,
   "metadata": {},
   "outputs": [
    {
     "name": "stdout",
     "output_type": "stream",
     "text": [
      "Fitting 5 folds for each of 10 candidates, totalling 50 fits\n"
     ]
    },
    {
     "name": "stderr",
     "output_type": "stream",
     "text": [
      "[Parallel(n_jobs=-1)]: Using backend LokyBackend with 4 concurrent workers.\n",
      "[Parallel(n_jobs=-1)]: Done  42 tasks      | elapsed:  8.9min\n",
      "[Parallel(n_jobs=-1)]: Done  50 out of  50 | elapsed:  9.9min finished\n"
     ]
    },
    {
     "name": "stdout",
     "output_type": "stream",
     "text": [
      "Best Combination Of Hyperparameters: {'pca__n_components': 0.7040816326530612, 'clf__n_estimators': 772, 'clf__max_depth': 18, 'clf__learning_rate': 0.7795918367346939}\n",
      "Best Accuracy: 0.9098228663446055\n",
      "              precision    recall  f1-score   support\n",
      "\n",
      "   large-cap       1.00      1.00      1.00       480\n",
      "     mid-cap       0.84      0.77      0.80       316\n",
      "   small-cap       0.85      0.90      0.87       447\n",
      "\n",
      "    accuracy                           0.90      1243\n",
      "   macro avg       0.90      0.89      0.89      1243\n",
      "weighted avg       0.90      0.90      0.90      1243\n",
      "\n"
     ]
    }
   ],
   "source": [
    "model = fit_model(\n",
    "    XGBClassifier(objective='multi:softprob'), \n",
    "    {\n",
    "        'clf__max_depth': np.arange(1, 25),\n",
    "        'clf__n_estimators': np.arange(1, 1000), \n",
    "        'clf__learning_rate': np.linspace(0.1, 1)\n",
    "    },\n",
    "    pca=True\n",
    ")\n",
    "models.append(model)\n",
    "best_scores.append(model.best_score_)"
   ]
  },
  {
   "cell_type": "code",
   "execution_count": 37,
   "metadata": {},
   "outputs": [
    {
     "name": "stdout",
     "output_type": "stream",
     "text": [
      "Fitting 5 folds for each of 10 candidates, totalling 50 fits\n"
     ]
    },
    {
     "name": "stderr",
     "output_type": "stream",
     "text": [
      "[Parallel(n_jobs=-1)]: Using backend LokyBackend with 4 concurrent workers.\n",
      "[Parallel(n_jobs=-1)]: Done  42 tasks      | elapsed:   31.3s\n",
      "[Parallel(n_jobs=-1)]: Done  50 out of  50 | elapsed:   37.7s finished\n"
     ]
    },
    {
     "name": "stdout",
     "output_type": "stream",
     "text": [
      "Best Combination Of Hyperparameters: {'pca__n_components': 0.2142857142857143, 'clf__kernel': 'poly', 'clf__gamma': 0.7196856730011514, 'clf__class_weight': None, 'clf__C': 37.27593720314938}\n",
      "Best Accuracy: 0.8427267847557702\n",
      "              precision    recall  f1-score   support\n",
      "\n",
      "   large-cap       0.99      0.97      0.98       480\n",
      "     mid-cap       0.73      0.66      0.69       316\n",
      "   small-cap       0.78      0.85      0.81       447\n",
      "\n",
      "    accuracy                           0.85      1243\n",
      "   macro avg       0.83      0.83      0.83      1243\n",
      "weighted avg       0.85      0.85      0.85      1243\n",
      "\n"
     ]
    }
   ],
   "source": [
    "model = fit_model(\n",
    "    SVC(decision_function_shape='ovo'), \n",
    "    {\n",
    "        'clf__C': np.logspace(-5, 2),\n",
    "        'clf__kernel': ['linear', 'poly', 'rbf', 'sigmoid'],\n",
    "        'clf__gamma': list(np.logspace(-5, 2)) + ['scale'],\n",
    "        'clf__class_weight': [None, 'balanced']\n",
    "    },\n",
    "    pca=True\n",
    ")\n",
    "models.append(model)\n",
    "best_scores.append(model.best_score_)"
   ]
  },
  {
   "cell_type": "code",
   "execution_count": 38,
   "metadata": {
    "scrolled": true
   },
   "outputs": [
    {
     "name": "stdout",
     "output_type": "stream",
     "text": [
      "Fitting 5 folds for each of 10 candidates, totalling 50 fits\n"
     ]
    },
    {
     "name": "stderr",
     "output_type": "stream",
     "text": [
      "[Parallel(n_jobs=-1)]: Using backend LokyBackend with 4 concurrent workers.\n",
      "/Users/junkai/opt/anaconda3/lib/python3.7/site-packages/joblib/externals/loky/process_executor.py:706: UserWarning: A worker stopped while some jobs were given to the executor. This can be caused by a too short worker timeout or by a memory leak.\n",
      "  \"timeout or by a memory leak.\", UserWarning\n",
      "[Parallel(n_jobs=-1)]: Done  42 tasks      | elapsed:  4.4min\n",
      "[Parallel(n_jobs=-1)]: Done  50 out of  50 | elapsed:  4.9min finished\n"
     ]
    },
    {
     "name": "stdout",
     "output_type": "stream",
     "text": [
      "WARNING:tensorflow:Large dropout rate: 0.585714 (>0.5). In TensorFlow 2.x, dropout() uses dropout rate instead of keep_prob. Please ensure that this is intended.\n",
      "WARNING:tensorflow:Large dropout rate: 0.744898 (>0.5). In TensorFlow 2.x, dropout() uses dropout rate instead of keep_prob. Please ensure that this is intended.\n",
      "Best Combination Of Hyperparameters: {'clf__opt_learning_rate': 0.005963623316594642, 'clf__layer_two_neurons': 101, 'clf__layer_two_dropout': 0.7448979591836735, 'clf__layer_one_neurons': 102, 'clf__layer_one_dropout': 0.5857142857142857, 'clf__epochs': 45, 'clf__batch_size': 256}\n",
      "Best Accuracy: 0.8287708043924148\n",
      "              precision    recall  f1-score   support\n",
      "\n",
      "   large-cap       1.00      1.00      1.00       480\n",
      "     mid-cap       0.66      0.53      0.59       316\n",
      "   small-cap       0.71      0.81      0.76       447\n",
      "\n",
      "    accuracy                           0.81      1243\n",
      "   macro avg       0.79      0.78      0.78      1243\n",
      "weighted avg       0.81      0.81      0.81      1243\n",
      "\n"
     ]
    }
   ],
   "source": [
    "model = fit_model(\n",
    "    KerasClassifier(build_fn=ffnn_fn, verbose=0), \n",
    "    {\n",
    "        'clf__layer_one_neurons': np.arange(10, X_train.shape[1]),\n",
    "        'clf__layer_two_neurons': np.arange(10, X_train.shape[1]),\n",
    "        'clf__layer_one_dropout': np.linspace(0.5, 0.8),\n",
    "        'clf__layer_two_dropout': np.linspace(0.5, 0.8),\n",
    "        'clf__opt_learning_rate': np.logspace(-4, -1),\n",
    "        'clf__batch_size': [128, 256],\n",
    "        'clf__epochs': np.arange(5, 50)\n",
    "    },\n",
    "    pca=True,\n",
    "    nn=True\n",
    ")\n",
    "models.append(model)\n",
    "best_scores.append(model.best_score_)"
   ]
  },
  {
   "cell_type": "markdown",
   "metadata": {},
   "source": [
    "---"
   ]
  },
  {
   "cell_type": "markdown",
   "metadata": {},
   "source": [
    "## Best Model"
   ]
  },
  {
   "cell_type": "code",
   "execution_count": 39,
   "metadata": {},
   "outputs": [
    {
     "name": "stdout",
     "output_type": "stream",
     "text": [
      "Best Accuracy: 0.9476650563607085\n",
      "              precision    recall  f1-score   support\n",
      "\n",
      "   large-cap       1.00      1.00      1.00       480\n",
      "     mid-cap       0.95      0.91      0.93       316\n",
      "   small-cap       0.93      0.97      0.95       447\n",
      "\n",
      "    accuracy                           0.96      1243\n",
      "   macro avg       0.96      0.96      0.96      1243\n",
      "weighted avg       0.96      0.96      0.96      1243\n",
      "\n"
     ]
    }
   ],
   "source": [
    "best_model = models[best_scores.index(max(best_scores))]\n",
    "print(\"Best Accuracy:\", best_model.best_score_)\n",
    "print(\n",
    "    classification_report(\n",
    "        y_test,\n",
    "        best_model.predict(X_test),\n",
    "        target_names=['large-cap', 'mid-cap', 'small-cap']\n",
    "    )\n",
    ")"
   ]
  },
  {
   "cell_type": "markdown",
   "metadata": {},
   "source": [
    "The best model is one that overfits the least and has the best training and test accuracies. In this case, `XGBClassifier` has a training accuracy of 0.95 and test accuracy of 0.96, which makes it the best performing model.\n",
    "\n",
    "Comparing with [baseline accuracy of 0.39](09_preprocessing_and_feature_engineering.ipynb#Baseline-Accuracy), `XGBClassifier` has higher accuracies than baseline."
   ]
  },
  {
   "cell_type": "markdown",
   "metadata": {},
   "source": [
    "---"
   ]
  },
  {
   "cell_type": "markdown",
   "metadata": {},
   "source": [
    "## Export To `csv`"
   ]
  },
  {
   "cell_type": "code",
   "execution_count": 40,
   "metadata": {},
   "outputs": [],
   "source": [
    "pd.Series(best_model.predict(X)).to_csv('../data/predict.csv', index=False)"
   ]
  },
  {
   "cell_type": "code",
   "execution_count": 41,
   "metadata": {},
   "outputs": [],
   "source": [
    "pd.DataFrame({\n",
    "    'Features': X.columns, \n",
    "    'Feature Importance': best_model.best_estimator_.named_steps['clf'].feature_importances_\n",
    "}).sort_values('Feature Importance', ascending=False).to_csv('../data/feature_importance.csv', index=False)"
   ]
  }
 ],
 "metadata": {
  "kernelspec": {
   "display_name": "Python 3",
   "language": "python",
   "name": "python3"
  },
  "language_info": {
   "codemirror_mode": {
    "name": "ipython",
    "version": 3
   },
   "file_extension": ".py",
   "mimetype": "text/x-python",
   "name": "python",
   "nbconvert_exporter": "python",
   "pygments_lexer": "ipython3",
   "version": "3.7.4"
  }
 },
 "nbformat": 4,
 "nbformat_minor": 2
}
