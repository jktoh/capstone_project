{
 "cells": [
  {
   "cell_type": "markdown",
   "metadata": {},
   "source": [
    "# Unicorn Classifier"
   ]
  },
  {
   "cell_type": "markdown",
   "metadata": {},
   "source": [
    "Unicorn, a privately held startup company valued at over \\$1 billion. According to TechCrunch, there were 279 unicorns as of March 2018.\n",
    "\n",
    "Wikipedia contributors. (2020, April 16). Unicorn (finance). In *Wikipedia, The Free Encyclopedia*. Retrieved\n",
    "02:16, April 18, 2020, from https://en.wikipedia.org/w/index.php?title=Unicorn_(finance)&oldid=951237395"
   ]
  },
  {
   "cell_type": "markdown",
   "metadata": {},
   "source": [
    "---"
   ]
  },
  {
   "cell_type": "markdown",
   "metadata": {},
   "source": [
    "## Context"
   ]
  },
  {
   "cell_type": "markdown",
   "metadata": {},
   "source": [
    "### How Valuable Is a Unicorn? Maybe Not as Much as It Claims to Be"
   ]
  },
  {
   "cell_type": "markdown",
   "metadata": {},
   "source": [
    "Ilya A. Strebulaev and another professor working with him, Will Gornall of the University of British Columbia, have come to a startling conclusion: The average unicorn is worth half the headline price tag that is put out after each new valuation.\n",
    "\n",
    "And if the special side deals that most unicorn companies offer to certain investors — more on this sleight of hand in a moment — are taken into account, almost half of the companies would fall below the $1 billion threshold.\n",
    "\n",
    "- Gornall and Strebulaev (2018). \"Squaring Venture Capital Valuations with Reality\". Stanford University Working Paper. SSRN [2955455](https://ssrn.com/abstract=2955455).\n",
    "- Sorkin, Andrew (2017). [\"How Valuable Is a Unicorn? Maybe Not as Much as It Claims to Be\"](https://www.nytimes.com/2017/10/16/business/how-valuable-is-a-unicorn-maybe-not-as-much-as-it-claims-to-be.html). *New York Times*. Retrieved 11 March 2018. "
   ]
  },
  {
   "cell_type": "markdown",
   "metadata": {},
   "source": [
    "### Market Capitalization"
   ]
  },
  {
   "cell_type": "markdown",
   "metadata": {},
   "source": [
    "Market capitalization, commonly called market cap, is the market value of a publicly traded company's outstanding shares.\n",
    "\n",
    "Market capitalization is equal to the share price multiplied by the number of shares outstanding. Since outstanding stock is bought and sold in public markets, capitalization could be used as an indicator of public opinion of a company's net worth and is a determining factor in some forms of stock valuation.\n",
    "\n",
    "Wikipedia contributors. (2020, March 26). Market capitalization. In *Wikipedia, The Free Encyclopedia*. Retrieved\n",
    "04:19, April 18, 2020, from https://en.wikipedia.org/w/index.php?title=Market_capitalization&oldid=947485274"
   ]
  },
  {
   "cell_type": "markdown",
   "metadata": {},
   "source": [
    "---"
   ]
  },
  {
   "cell_type": "markdown",
   "metadata": {},
   "source": [
    "## Goal"
   ]
  },
  {
   "cell_type": "markdown",
   "metadata": {},
   "source": [
    "Given the valuation of unicorns may not be as much as it claims to be, it is difficult for potential investors to determine their market values as if the unicorns were to be traded in the public market. Since market capitalization could represent market values, could we determine the market capitalization of these unicorns?\n",
    "\n",
    "Determining the exact market cap is a challenge because deriving the share price for calculating market cap is difficult, where share price can be affected by many different variables. Instead, based on the unicorns' financial performance, we will model a classifier that will divide the unicorns into large-cap, mid-cap and small-cap according to S&P's selection criteria.\n",
    "\n",
    "It should be noted, however, that potential investors should still continue to perform due diligence. This tool was created to help make it easier for potential investors to sift through many unicorns, and find their ideal investments."
   ]
  },
  {
   "cell_type": "markdown",
   "metadata": {},
   "source": [
    "---"
   ]
  },
  {
   "cell_type": "markdown",
   "metadata": {},
   "source": [
    "## Approach"
   ]
  },
  {
   "cell_type": "markdown",
   "metadata": {},
   "source": [
    "1. Scrape 10 years of annual report (2009 - 2019) from https://www.sec.gov/edgar.shtml, for\n",
    "    - 500 large-cap companies from S&P 500\n",
    "    - 400 mid-cap companies from S&P 400\n",
    "    - 600 small-cap companies from S&P 600\n",
    "2. Perform exploratory data analysis and cleaning, including analysing correlations between features and target (large-cap, mid-cap, small-cap)\n",
    "3. Set baseline accuracy\n",
    "4. Convert categorical variables into numbers (for modelling)\n",
    "5. Split data into training (0.75) and test (0.25) at random, in a stratified fashion\n",
    "6. Standardize all features with mean of 0 and standard deviation of 1\n",
    "7. Assemble different pipelines with Step 5 and different models\n",
    "8. Train different pipelines with hyper parameters tuning.\n",
    "9. Repeat Step 5 to 7, while using Principal Component Analysis (PCA) to project down the dimensions of features\n",
    "10. Select model with highest training accuracy\n",
    "11. Investigate the important features from the best model\n",
    "12. Conclude findings"
   ]
  },
  {
   "cell_type": "markdown",
   "metadata": {},
   "source": [
    "---"
   ]
  },
  {
   "cell_type": "code",
   "execution_count": null,
   "metadata": {},
   "outputs": [],
   "source": []
  }
 ],
 "metadata": {
  "kernelspec": {
   "display_name": "Python 3",
   "language": "python",
   "name": "python3"
  },
  "language_info": {
   "codemirror_mode": {
    "name": "ipython",
    "version": 3
   },
   "file_extension": ".py",
   "mimetype": "text/x-python",
   "name": "python",
   "nbconvert_exporter": "python",
   "pygments_lexer": "ipython3",
   "version": "3.7.4"
  }
 },
 "nbformat": 4,
 "nbformat_minor": 2
}
