{
 "cells": [
  {
   "cell_type": "markdown",
   "metadata": {},
   "source": [
    "# United States Market Capitalization Classifier\n",
    "---"
   ]
  },
  {
   "cell_type": "markdown",
   "metadata": {},
   "source": [
    "## Information"
   ]
  },
  {
   "cell_type": "markdown",
   "metadata": {},
   "source": [
    "### Exchange-Traded Fund (ETF)"
   ]
  },
  {
   "cell_type": "markdown",
   "metadata": {},
   "source": [
    "An ETF is an investment fund traded on stock exchanges, much like stocks. An ETF holds assets such as stocks, commodities, or bonds and generally operates with an arbitrage mechanism designed to keep it trading close to its net asset value, although deviations can occasionally occur. Most ETFs track an index, such as a stock index or bond index.\n",
    "\n",
    "ETFs generally provide the easy diversification, low expense ratios, and tax efficiency of index funds, while still maintaining all the features of ordinary stock, such as limit orders, short selling, and options. Because ETFs can be economically acquired, held, and disposed of, some investors invest in ETF shares as a long-term investment for asset allocation purposes, while other investors trade ETF shares frequently to hedge risk over short periods or implement market timing investment strategies.\n",
    "\n",
    "Wikipedia contributors. (2020, April 12). Exchange-traded fund. In Wikipedia, The Free Encyclopedia. Retrieved 02:12, April 16, 2020, from https://en.wikipedia.org/w/index.php?title=Exchange-traded_fund&oldid=950561374"
   ]
  },
  {
   "cell_type": "markdown",
   "metadata": {},
   "source": [
    "## Goal"
   ]
  },
  {
   "cell_type": "code",
   "execution_count": null,
   "metadata": {},
   "outputs": [],
   "source": []
  }
 ],
 "metadata": {
  "kernelspec": {
   "display_name": "Python 3",
   "language": "python",
   "name": "python3"
  },
  "language_info": {
   "codemirror_mode": {
    "name": "ipython",
    "version": 3
   },
   "file_extension": ".py",
   "mimetype": "text/x-python",
   "name": "python",
   "nbconvert_exporter": "python",
   "pygments_lexer": "ipython3",
   "version": "3.7.4"
  }
 },
 "nbformat": 4,
 "nbformat_minor": 2
}
