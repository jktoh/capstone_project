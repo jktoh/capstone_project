{
 "cells": [
  {
   "cell_type": "markdown",
   "metadata": {},
   "source": [
    "# United States Market Capitalization Classifier\n",
    "---"
   ]
  },
  {
   "cell_type": "markdown",
   "metadata": {},
   "source": [
    "## Information"
   ]
  },
  {
   "cell_type": "markdown",
   "metadata": {},
   "source": [
    "Market capitalization, commonly called market cap, is the market value of a publicly traded company's outstanding shares.\n",
    "\n",
    "Market capitalization is equal to the share price multiplied by the number of shares outstanding. Since outstanding stock is bought and sold in public markets, capitalization could be used as an indicator of public opinion of a company's net worth and is a determining factor in some forms of stock valuation.\n",
    "\n",
    "Wikipedia contributors. (2020, March 26). Market capitalization. In *Wikipedia, The Free Encyclopedia*. Retrieved\n",
    "04:27, April 17, 2020, from https://en.wikipedia.org/w/index.php?title=Market_capitalization&oldid=947485274"
   ]
  },
  {
   "cell_type": "markdown",
   "metadata": {},
   "source": [
    "### Understanding Market Capitalization"
   ]
  },
  {
   "cell_type": "markdown",
   "metadata": {},
   "source": [
    "- Market capitalization refers to how much a company is worth as determined by the stock market. It is defined as the total market value of all outstanding shares. \n",
    "- To calculate a company's market cap, multiply the number of outstanding shares by the current market value of one share.\n",
    "- Using market capitalization to show the size of a company is important because company size is a basic determinant of various characteristics in which investors are interested, including risk."
   ]
  },
  {
   "cell_type": "markdown",
   "metadata": {},
   "source": [
    "[\"Market Capitalization Definition\"](http://www.investopedia.com/terms/m/marketcapitalization.asp). Retrieved April 2, 2013."
   ]
  },
  {
   "cell_type": "markdown",
   "metadata": {},
   "source": [
    "### S&P 500 Index"
   ]
  },
  {
   "cell_type": "markdown",
   "metadata": {},
   "source": [
    "The S&P 500, or simply the S&P, is a stock market index that measures the stock performance of 500 large companies listed on stock exchanges in the United States. \n",
    "\n",
    "The components of the S&P 500 are selected by a committee. When considering the eligibility of a new addition, the committee assesses the company's merit using eight primary criteria: market capitalization, liquidity, domicile, public float, sector classification, financial viability, and length of time publicly traded and stock exchange.\n",
    "\n",
    "A stock may **rise in value** when it is added to the index since index funds must purchase that company's stock in order to continue tracking the S&P 500 index.<sup>[[1]](https://www.usatoday.com/story/money/columnist/krantz/2013/07/05/stocks-soar-added-sp-500/2447185/)</sup>\n",
    "\n",
    "Wikipedia contributors. (2020, April 2). S&P 500 Index. In *Wikipedia, The Free Encyclopedia*. Retrieved 03:24, April 16, 2020, from https://en.wikipedia.org/w/index.php?title=S%26P_500_Index&oldid=948722010"
   ]
  },
  {
   "cell_type": "markdown",
   "metadata": {},
   "source": [
    "### Warren Buffett And Tony Robbins Agree On The Best Way To Invest Your Money"
   ]
  },
  {
   "cell_type": "markdown",
   "metadata": {},
   "source": [
    "You can think of an index fund as a basket of stocks with hundreds or thousands of different ones inside, explains Nick Holeman, a certified financial planner at Betterment. The S&P 500, for example, is a fund that holds stocks for the 500 largest companies in the U.S., which includes familiar names such as Apple, Google, Exxon and Johnson & Johnson.\n",
    "\n",
    "“It’s the cheapest and easiest way to diversify your money that you’re investing,” Holeman says."
   ]
  },
  {
   "cell_type": "markdown",
   "metadata": {},
   "source": [
    "In 2007, he (Warren Buffett) made a $1 million bet against Protégé Partners that hedge funds wouldn’t outperform an S&P index fund (over the next 10 years), and he won.\n",
    "\n",
    "Buffett’s choice fund, the Vanguard 500 Index Fund Admiral Shares, returned 7.1 percent compounded annually, while the basket of hedge funds his competitor chose returned an average of only 2.2 percent, the Wall Street Journal reports."
   ]
  },
  {
   "cell_type": "markdown",
   "metadata": {},
   "source": [
    "In his book “Unshakeable,” Robbins explains that funds dispense with the human error — and therefore most of the risk —  inherent in picking stocks individually. “Index funds take a ‘passive’ approach that eliminates almost all trading activity,” he writes."
   ]
  },
  {
   "cell_type": "markdown",
   "metadata": {},
   "source": [
    "Martin, Emmie (June 28, 2018). [\"Warren Buffett and Tony Robbins agree on the best way to invest your money\"](https://www.cnbc.com/2018/06/19/warren-buffett-and-tony-robbins-agree-invest-in-index-funds.html). *CNBC*."
   ]
  },
  {
   "cell_type": "markdown",
   "metadata": {},
   "source": [
    "---"
   ]
  },
  {
   "cell_type": "markdown",
   "metadata": {},
   "source": [
    "## Goal"
   ]
  },
  {
   "cell_type": "markdown",
   "metadata": {},
   "source": [
    "I have been a supporter of index funds because actively choosing and managing investment can be daunting, and Buffett's victory in his bet has shown that his choice of index fund provided a higher return than the average basket of hedge funds. If many other starts to also support this idea, there could be a growing popularity of more supporters buying into index funds."
   ]
  },
  {
   "cell_type": "code",
   "execution_count": null,
   "metadata": {},
   "outputs": [],
   "source": []
  }
 ],
 "metadata": {
  "kernelspec": {
   "display_name": "Python 3",
   "language": "python",
   "name": "python3"
  },
  "language_info": {
   "codemirror_mode": {
    "name": "ipython",
    "version": 3
   },
   "file_extension": ".py",
   "mimetype": "text/x-python",
   "name": "python",
   "nbconvert_exporter": "python",
   "pygments_lexer": "ipython3",
   "version": "3.7.4"
  }
 },
 "nbformat": 4,
 "nbformat_minor": 2
}
