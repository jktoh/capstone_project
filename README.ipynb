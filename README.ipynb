{
 "cells": [
  {
   "cell_type": "markdown",
   "metadata": {},
   "source": [
    "# United States Market Capitalization Classifier\n",
    "---"
   ]
  },
  {
   "cell_type": "markdown",
   "metadata": {},
   "source": [
    "## Goal"
   ]
  },
  {
   "cell_type": "markdown",
   "metadata": {},
   "source": [
    "Funds that track the index have been recommended as investments by Warren Buffett, Burton Malkiel and John C. Bogle for investors with long time horizons.[<sup>[1]</sup>](https://en.wikipedia.org/wiki/S%26P_500_Index#cite_note-12) \n",
    "\n",
    "A stock may rise in value when it is added to the index since index funds must purchase that company's stock in order to continue tracking the S&P 500 index.[<sup>[2]</sup>](https://en.wikipedia.org/wiki/S%26P_500_Index#cite_note-28)[<sup>[3]</sup>](https://en.wikipedia.org/wiki/S%26P_500_Index#cite_note-29)"
   ]
  },
  {
   "cell_type": "code",
   "execution_count": null,
   "metadata": {},
   "outputs": [],
   "source": []
  }
 ],
 "metadata": {
  "kernelspec": {
   "display_name": "Python 3",
   "language": "python",
   "name": "python3"
  },
  "language_info": {
   "codemirror_mode": {
    "name": "ipython",
    "version": 3
   },
   "file_extension": ".py",
   "mimetype": "text/x-python",
   "name": "python",
   "nbconvert_exporter": "python",
   "pygments_lexer": "ipython3",
   "version": "3.7.4"
  }
 },
 "nbformat": 4,
 "nbformat_minor": 2
}
