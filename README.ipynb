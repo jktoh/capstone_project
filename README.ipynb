{
 "cells": [
  {
   "cell_type": "markdown",
   "metadata": {},
   "source": [
    "# United States Market Capitalization Classifier\n",
    "---"
   ]
  },
  {
   "cell_type": "markdown",
   "metadata": {},
   "source": [
    "## Information"
   ]
  },
  {
   "cell_type": "markdown",
   "metadata": {},
   "source": [
    "### Exchange-Traded Fund (ETF)"
   ]
  },
  {
   "cell_type": "markdown",
   "metadata": {},
   "source": [
    "An ETF is an investment fund traded on stock exchanges, much like stocks. An ETF holds assets such as stocks, commodities, or bonds and generally operates with an arbitrage mechanism designed to keep it trading close to its net asset value, although deviations can occasionally occur. Most ETFs track an index, such as a stock index or bond index.\n",
    "\n",
    "ETFs generally provide the easy diversification, low expense ratios, and tax efficiency of index funds, while still maintaining all the features of ordinary stock, such as limit orders, short selling, and options. Because ETFs can be economically acquired, held, and disposed of, some investors invest in ETF shares as a long-term investment for asset allocation purposes, while other investors trade ETF shares frequently to hedge risk over short periods or implement market timing investment strategies.\n",
    "\n",
    "Wikipedia contributors. (2020, April 12). Exchange-traded fund. In Wikipedia, The Free Encyclopedia. Retrieved 02:12, April 16, 2020, from https://en.wikipedia.org/w/index.php?title=Exchange-traded_fund&oldid=950561374"
   ]
  },
  {
   "cell_type": "markdown",
   "metadata": {},
   "source": [
    "### Index Fund"
   ]
  },
  {
   "cell_type": "markdown",
   "metadata": {},
   "source": [
    "An index fund (also index tracker) is a mutual fund or exchange-traded fund (ETF) designed to follow certain preset rules so that the fund can track a specified basket of underlying investments. Those rules may include tracking prominent indexes like the S&P 500 or the Dow Jones Industrial Average or implementation rules, such as tax-management, tracking error minimization, large block trading or patient/flexible trading strategies that allows for greater tracking error, but lower market impact costs.\n",
    "\n",
    "The main advantage of index funds for investors is they don't require a lot of time to manage as the investors don't have to spend time analyzing various stocks or stock portfolios. Many investors also find it difficult to beat the performance of the S&P 500 Index due to their lack of experience/skill in investing.\n",
    "\n",
    "Wikipedia contributors. (2020, March 12). Index fund. In Wikipedia, The Free Encyclopedia. Retrieved 02:43, April 16, 2020, from https://en.wikipedia.org/w/index.php?title=Index_fund&oldid=945264554"
   ]
  },
  {
   "cell_type": "markdown",
   "metadata": {},
   "source": [
    "### S&P 500 Index"
   ]
  },
  {
   "cell_type": "markdown",
   "metadata": {},
   "source": [
    "Funds that track the index have been recommended as investments by Warren Buffett, Burton Malkiel and John C. Bogle for investors with long time horizons.\n",
    "\n",
    "A stock may rise in value when it is added to the index since index funds must purchase that company's stock in order to continue tracking the S&P 500 index.\n",
    "\n",
    "Wikipedia contributors. (2020, April 2). S&P 500 Index. In Wikipedia, The Free Encyclopedia. Retrieved 03:24, April 16, 2020, from https://en.wikipedia.org/w/index.php?title=S%26P_500_Index&oldid=948722010"
   ]
  },
  {
   "cell_type": "markdown",
   "metadata": {},
   "source": [
    "---"
   ]
  },
  {
   "cell_type": "markdown",
   "metadata": {},
   "source": [
    "## Goal"
   ]
  },
  {
   "cell_type": "markdown",
   "metadata": {},
   "source": []
  }
 ],
 "metadata": {
  "kernelspec": {
   "display_name": "Python 3",
   "language": "python",
   "name": "python3"
  },
  "language_info": {
   "codemirror_mode": {
    "name": "ipython",
    "version": 3
   },
   "file_extension": ".py",
   "mimetype": "text/x-python",
   "name": "python",
   "nbconvert_exporter": "python",
   "pygments_lexer": "ipython3",
   "version": "3.7.4"
  }
 },
 "nbformat": 4,
 "nbformat_minor": 2
}
